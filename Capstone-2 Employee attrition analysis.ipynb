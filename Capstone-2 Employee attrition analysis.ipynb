{
 "cells": [
  {
   "cell_type": "code",
   "execution_count": 2,
   "metadata": {},
   "outputs": [
    {
     "name": "stdout",
     "output_type": "stream",
     "text": [
      "Collecting mysql.connector\n",
      "\u001b[?25l  Downloading https://files.pythonhosted.org/packages/28/04/e40098f3730e75bbe36a338926f566ea803550a34fb50535499f4fc4787a/mysql-connector-2.2.9.tar.gz (11.9MB)\n",
      "\u001b[K     |████████████████████████████████| 11.9MB 2.4MB/s eta 0:00:01   |▏                               | 51kB 1.6MB/s eta 0:00:08\n",
      "\u001b[?25hBuilding wheels for collected packages: mysql.connector\n",
      "  Building wheel for mysql.connector (setup.py) ... \u001b[?25ldone\n",
      "\u001b[?25h  Created wheel for mysql.connector: filename=mysql_connector-2.2.9-cp37-cp37m-macosx_10_7_x86_64.whl size=247955 sha256=e706ec1d999d21d5625de034a94665c8e949a5ea160f428e29117b5979c6bbe7\n",
      "  Stored in directory: /Users/sharvarinagesh/Library/Caches/pip/wheels/8c/83/a1/f8b6d4bb1bd6208bbde1608bbfa7557504bed9eaf2ecf8c175\n",
      "Successfully built mysql.connector\n",
      "Installing collected packages: mysql.connector\n",
      "Successfully installed mysql.connector\n"
     ]
    }
   ],
   "source": [
    "!pip install mysql.connector"
   ]
  },
  {
   "cell_type": "markdown",
   "metadata": {},
   "source": [
    "# 1. Reading and Exploring Data"
   ]
  },
  {
   "cell_type": "code",
   "execution_count": 253,
   "metadata": {},
   "outputs": [],
   "source": [
    "import pandas as pd\n",
    "import numpy as np\n",
    "import seaborn as sns\n",
    "import matplotlib.pyplot as plt\n",
    "import seaborn as sns\n",
    "\n",
    "import matplotlib.pyplot as plt\n",
    "from sklearn.naive_bayes import GaussianNB\n",
    "from sklearn.linear_model import LogisticRegression\n",
    "from sklearn.metrics import confusion_matrix,auc,roc_auc_score\n",
    "from sklearn.metrics import recall_score, precision_score, accuracy_score, f1_score"
   ]
  },
  {
   "cell_type": "code",
   "execution_count": 254,
   "metadata": {},
   "outputs": [
    {
     "name": "stdout",
     "output_type": "stream",
     "text": [
      "11\n",
      "14150\n",
      "14245\n"
     ]
    }
   ],
   "source": [
    "import mysql.connector\n",
    "\n",
    "mydb = mysql.connector.connect(\n",
    "  host=\"cpanel.insaid.co\",\n",
    "  user=\"student\",\n",
    "  password=\"student\",\n",
    "  database=\"Capstone2\"\n",
    ")\n",
    "\n",
    "tables = ['department_data', 'employee_details_data', 'employee_data']\n",
    "\n",
    "#mycursor = mydb.cursor()\n",
    "mycursor = mydb.cursor(buffered=True , dictionary=True)\n",
    "mycursor.execute(\"SELECT * FROM department_data\")\n",
    "department_data = pd.DataFrame(mycursor.fetchall())\n",
    "\n",
    "mycursor.execute(\"SELECT * FROM employee_data\")\n",
    "employee_data = pd.DataFrame(mycursor.fetchall())\n",
    "\n",
    "mycursor.execute(\"SELECT * FROM employee_details_data\")\n",
    "employee_details_data = pd.DataFrame(mycursor.fetchall())\n",
    "\n",
    "\n",
    "\n",
    "#for x in department_data:\n",
    "print(len(department_data))\n",
    "print(len(employee_data))\n",
    "print(len(employee_details_data))\n"
   ]
  },
  {
   "cell_type": "markdown",
   "metadata": {},
   "source": [
    "### Exploring department_data"
   ]
  },
  {
   "cell_type": "code",
   "execution_count": 204,
   "metadata": {},
   "outputs": [
    {
     "data": {
      "text/html": [
       "<div>\n",
       "<style scoped>\n",
       "    .dataframe tbody tr th:only-of-type {\n",
       "        vertical-align: middle;\n",
       "    }\n",
       "\n",
       "    .dataframe tbody tr th {\n",
       "        vertical-align: top;\n",
       "    }\n",
       "\n",
       "    .dataframe thead th {\n",
       "        text-align: right;\n",
       "    }\n",
       "</style>\n",
       "<table border=\"1\" class=\"dataframe\">\n",
       "  <thead>\n",
       "    <tr style=\"text-align: right;\">\n",
       "      <th></th>\n",
       "      <th>dept_id</th>\n",
       "      <th>dept_name</th>\n",
       "      <th>dept_head</th>\n",
       "    </tr>\n",
       "  </thead>\n",
       "  <tbody>\n",
       "    <tr>\n",
       "      <th>0</th>\n",
       "      <td>D00-IT</td>\n",
       "      <td>IT</td>\n",
       "      <td>Henry Adey</td>\n",
       "    </tr>\n",
       "    <tr>\n",
       "      <th>1</th>\n",
       "      <td>D00-SS</td>\n",
       "      <td>Sales</td>\n",
       "      <td>Edward J Bayley</td>\n",
       "    </tr>\n",
       "    <tr>\n",
       "      <th>2</th>\n",
       "      <td>D00-TP</td>\n",
       "      <td>Temp</td>\n",
       "      <td>Micheal Zachrey</td>\n",
       "    </tr>\n",
       "    <tr>\n",
       "      <th>3</th>\n",
       "      <td>D00-ENG</td>\n",
       "      <td>Engineering</td>\n",
       "      <td>Sushant Raghunathan K</td>\n",
       "    </tr>\n",
       "    <tr>\n",
       "      <th>4</th>\n",
       "      <td>D00-SP</td>\n",
       "      <td>Support</td>\n",
       "      <td>Amelia Westray</td>\n",
       "    </tr>\n",
       "    <tr>\n",
       "      <th>5</th>\n",
       "      <td>D00-FN</td>\n",
       "      <td>Finance</td>\n",
       "      <td>Aanchal J</td>\n",
       "    </tr>\n",
       "    <tr>\n",
       "      <th>6</th>\n",
       "      <td>D00-PR</td>\n",
       "      <td>Procurement</td>\n",
       "      <td>Louie Viles</td>\n",
       "    </tr>\n",
       "    <tr>\n",
       "      <th>7</th>\n",
       "      <td>D00-AD</td>\n",
       "      <td>Admin</td>\n",
       "      <td>Evelyn Tolson</td>\n",
       "    </tr>\n",
       "    <tr>\n",
       "      <th>8</th>\n",
       "      <td>D00-MN</td>\n",
       "      <td>Management</td>\n",
       "      <td>Ellie Trafton</td>\n",
       "    </tr>\n",
       "    <tr>\n",
       "      <th>9</th>\n",
       "      <td>D00-MT</td>\n",
       "      <td>Marketing</td>\n",
       "      <td>Reuben Swann</td>\n",
       "    </tr>\n",
       "    <tr>\n",
       "      <th>10</th>\n",
       "      <td>D00-PD</td>\n",
       "      <td>Product</td>\n",
       "      <td>Darcy Staines</td>\n",
       "    </tr>\n",
       "  </tbody>\n",
       "</table>\n",
       "</div>"
      ],
      "text/plain": [
       "    dept_id    dept_name              dept_head\n",
       "0    D00-IT           IT             Henry Adey\n",
       "1    D00-SS        Sales        Edward J Bayley\n",
       "2    D00-TP         Temp        Micheal Zachrey\n",
       "3   D00-ENG  Engineering  Sushant Raghunathan K\n",
       "4    D00-SP      Support         Amelia Westray\n",
       "5    D00-FN      Finance              Aanchal J\n",
       "6    D00-PR  Procurement            Louie Viles\n",
       "7    D00-AD        Admin          Evelyn Tolson\n",
       "8    D00-MN   Management          Ellie Trafton\n",
       "9    D00-MT    Marketing           Reuben Swann\n",
       "10   D00-PD      Product          Darcy Staines"
      ]
     },
     "execution_count": 204,
     "metadata": {},
     "output_type": "execute_result"
    }
   ],
   "source": [
    "department_data.head(15)"
   ]
  },
  {
   "cell_type": "code",
   "execution_count": 170,
   "metadata": {},
   "outputs": [
    {
     "data": {
      "text/html": [
       "<div>\n",
       "<style scoped>\n",
       "    .dataframe tbody tr th:only-of-type {\n",
       "        vertical-align: middle;\n",
       "    }\n",
       "\n",
       "    .dataframe tbody tr th {\n",
       "        vertical-align: top;\n",
       "    }\n",
       "\n",
       "    .dataframe thead th {\n",
       "        text-align: right;\n",
       "    }\n",
       "</style>\n",
       "<table border=\"1\" class=\"dataframe\">\n",
       "  <thead>\n",
       "    <tr style=\"text-align: right;\">\n",
       "      <th></th>\n",
       "      <th>dept_id</th>\n",
       "      <th>dept_name</th>\n",
       "      <th>dept_head</th>\n",
       "    </tr>\n",
       "  </thead>\n",
       "  <tbody>\n",
       "    <tr>\n",
       "      <th>count</th>\n",
       "      <td>11</td>\n",
       "      <td>11</td>\n",
       "      <td>11</td>\n",
       "    </tr>\n",
       "    <tr>\n",
       "      <th>unique</th>\n",
       "      <td>11</td>\n",
       "      <td>11</td>\n",
       "      <td>11</td>\n",
       "    </tr>\n",
       "    <tr>\n",
       "      <th>top</th>\n",
       "      <td>D00-TP</td>\n",
       "      <td>Support</td>\n",
       "      <td>Henry Adey</td>\n",
       "    </tr>\n",
       "    <tr>\n",
       "      <th>freq</th>\n",
       "      <td>1</td>\n",
       "      <td>1</td>\n",
       "      <td>1</td>\n",
       "    </tr>\n",
       "  </tbody>\n",
       "</table>\n",
       "</div>"
      ],
      "text/plain": [
       "       dept_id dept_name   dept_head\n",
       "count       11        11          11\n",
       "unique      11        11          11\n",
       "top     D00-TP   Support  Henry Adey\n",
       "freq         1         1           1"
      ]
     },
     "execution_count": 170,
     "metadata": {},
     "output_type": "execute_result"
    }
   ],
   "source": [
    "department_data.describe()"
   ]
  },
  {
   "cell_type": "code",
   "execution_count": 38,
   "metadata": {},
   "outputs": [
    {
     "name": "stdout",
     "output_type": "stream",
     "text": [
      "<class 'pandas.core.frame.DataFrame'>\n",
      "RangeIndex: 11 entries, 0 to 10\n",
      "Data columns (total 3 columns):\n",
      "dept_id      11 non-null object\n",
      "dept_name    11 non-null object\n",
      "dept_head    11 non-null object\n",
      "dtypes: object(3)\n",
      "memory usage: 392.0+ bytes\n"
     ]
    }
   ],
   "source": [
    "department_data.info()"
   ]
  },
  {
   "cell_type": "markdown",
   "metadata": {},
   "source": [
    "### Exploring employee_data"
   ]
  },
  {
   "cell_type": "code",
   "execution_count": 255,
   "metadata": {},
   "outputs": [
    {
     "data": {
      "text/html": [
       "<div>\n",
       "<style scoped>\n",
       "    .dataframe tbody tr th:only-of-type {\n",
       "        vertical-align: middle;\n",
       "    }\n",
       "\n",
       "    .dataframe tbody tr th {\n",
       "        vertical-align: top;\n",
       "    }\n",
       "\n",
       "    .dataframe thead th {\n",
       "        text-align: right;\n",
       "    }\n",
       "</style>\n",
       "<table border=\"1\" class=\"dataframe\">\n",
       "  <thead>\n",
       "    <tr style=\"text-align: right;\">\n",
       "      <th></th>\n",
       "      <th>avg_monthly_hrs</th>\n",
       "      <th>department</th>\n",
       "      <th>filed_complaint</th>\n",
       "      <th>last_evaluation</th>\n",
       "      <th>n_projects</th>\n",
       "      <th>recently_promoted</th>\n",
       "      <th>salary</th>\n",
       "      <th>satisfaction</th>\n",
       "      <th>status</th>\n",
       "      <th>tenure</th>\n",
       "      <th>employee_id</th>\n",
       "    </tr>\n",
       "  </thead>\n",
       "  <tbody>\n",
       "    <tr>\n",
       "      <th>0</th>\n",
       "      <td>246.00</td>\n",
       "      <td>None</td>\n",
       "      <td>None</td>\n",
       "      <td>0.866838</td>\n",
       "      <td>6</td>\n",
       "      <td>NaN</td>\n",
       "      <td>medium</td>\n",
       "      <td>0.134415</td>\n",
       "      <td>Left</td>\n",
       "      <td>4.00</td>\n",
       "      <td>124467</td>\n",
       "    </tr>\n",
       "    <tr>\n",
       "      <th>1</th>\n",
       "      <td>134.00</td>\n",
       "      <td>None</td>\n",
       "      <td>None</td>\n",
       "      <td>0.555718</td>\n",
       "      <td>2</td>\n",
       "      <td>NaN</td>\n",
       "      <td>low</td>\n",
       "      <td>0.511041</td>\n",
       "      <td>Left</td>\n",
       "      <td>3.00</td>\n",
       "      <td>112210</td>\n",
       "    </tr>\n",
       "    <tr>\n",
       "      <th>2</th>\n",
       "      <td>156.00</td>\n",
       "      <td>D00-SS</td>\n",
       "      <td>1.00</td>\n",
       "      <td>0.474082</td>\n",
       "      <td>2</td>\n",
       "      <td>NaN</td>\n",
       "      <td>medium</td>\n",
       "      <td>0.405101</td>\n",
       "      <td>Left</td>\n",
       "      <td>3.00</td>\n",
       "      <td>126150</td>\n",
       "    </tr>\n",
       "    <tr>\n",
       "      <th>3</th>\n",
       "      <td>256.00</td>\n",
       "      <td>D00-SP</td>\n",
       "      <td>None</td>\n",
       "      <td>0.961360</td>\n",
       "      <td>6</td>\n",
       "      <td>NaN</td>\n",
       "      <td>low</td>\n",
       "      <td>0.152974</td>\n",
       "      <td>Left</td>\n",
       "      <td>4.00</td>\n",
       "      <td>125346</td>\n",
       "    </tr>\n",
       "    <tr>\n",
       "      <th>4</th>\n",
       "      <td>146.00</td>\n",
       "      <td>D00-SS</td>\n",
       "      <td>None</td>\n",
       "      <td>0.507349</td>\n",
       "      <td>2</td>\n",
       "      <td>NaN</td>\n",
       "      <td>medium</td>\n",
       "      <td>0.434845</td>\n",
       "      <td>Left</td>\n",
       "      <td>3.00</td>\n",
       "      <td>113707</td>\n",
       "    </tr>\n",
       "    <tr>\n",
       "      <th>5</th>\n",
       "      <td>135.00</td>\n",
       "      <td>D00-MT</td>\n",
       "      <td>None</td>\n",
       "      <td>0.482184</td>\n",
       "      <td>2</td>\n",
       "      <td>NaN</td>\n",
       "      <td>low</td>\n",
       "      <td>0.381545</td>\n",
       "      <td>Left</td>\n",
       "      <td>3.00</td>\n",
       "      <td>121685</td>\n",
       "    </tr>\n",
       "    <tr>\n",
       "      <th>6</th>\n",
       "      <td>270.00</td>\n",
       "      <td>D00-PD</td>\n",
       "      <td>None</td>\n",
       "      <td>0.867087</td>\n",
       "      <td>6</td>\n",
       "      <td>NaN</td>\n",
       "      <td>low</td>\n",
       "      <td>0.172575</td>\n",
       "      <td>Left</td>\n",
       "      <td>4.00</td>\n",
       "      <td>119912</td>\n",
       "    </tr>\n",
       "    <tr>\n",
       "      <th>7</th>\n",
       "      <td>244.00</td>\n",
       "      <td>D00-IT</td>\n",
       "      <td>None</td>\n",
       "      <td>0.926197</td>\n",
       "      <td>6</td>\n",
       "      <td>NaN</td>\n",
       "      <td>medium</td>\n",
       "      <td>0.061868</td>\n",
       "      <td>Left</td>\n",
       "      <td>5.00</td>\n",
       "      <td>112868</td>\n",
       "    </tr>\n",
       "    <tr>\n",
       "      <th>8</th>\n",
       "      <td>289.00</td>\n",
       "      <td>D00-IT</td>\n",
       "      <td>None</td>\n",
       "      <td>0.929858</td>\n",
       "      <td>7</td>\n",
       "      <td>NaN</td>\n",
       "      <td>low</td>\n",
       "      <td>0.161744</td>\n",
       "      <td>Left</td>\n",
       "      <td>4.00</td>\n",
       "      <td>122314</td>\n",
       "    </tr>\n",
       "    <tr>\n",
       "      <th>9</th>\n",
       "      <td>281.00</td>\n",
       "      <td>D00-SS</td>\n",
       "      <td>None</td>\n",
       "      <td>0.907965</td>\n",
       "      <td>6</td>\n",
       "      <td>NaN</td>\n",
       "      <td>medium</td>\n",
       "      <td>0.105749</td>\n",
       "      <td>Left</td>\n",
       "      <td>4.00</td>\n",
       "      <td>122394</td>\n",
       "    </tr>\n",
       "  </tbody>\n",
       "</table>\n",
       "</div>"
      ],
      "text/plain": [
       "  avg_monthly_hrs department filed_complaint  last_evaluation  n_projects  \\\n",
       "0          246.00       None            None         0.866838           6   \n",
       "1          134.00       None            None         0.555718           2   \n",
       "2          156.00     D00-SS            1.00         0.474082           2   \n",
       "3          256.00     D00-SP            None         0.961360           6   \n",
       "4          146.00     D00-SS            None         0.507349           2   \n",
       "5          135.00     D00-MT            None         0.482184           2   \n",
       "6          270.00     D00-PD            None         0.867087           6   \n",
       "7          244.00     D00-IT            None         0.926197           6   \n",
       "8          289.00     D00-IT            None         0.929858           7   \n",
       "9          281.00     D00-SS            None         0.907965           6   \n",
       "\n",
       "   recently_promoted  salary  satisfaction status tenure  employee_id  \n",
       "0                NaN  medium      0.134415   Left   4.00       124467  \n",
       "1                NaN     low      0.511041   Left   3.00       112210  \n",
       "2                NaN  medium      0.405101   Left   3.00       126150  \n",
       "3                NaN     low      0.152974   Left   4.00       125346  \n",
       "4                NaN  medium      0.434845   Left   3.00       113707  \n",
       "5                NaN     low      0.381545   Left   3.00       121685  \n",
       "6                NaN     low      0.172575   Left   4.00       119912  \n",
       "7                NaN  medium      0.061868   Left   5.00       112868  \n",
       "8                NaN     low      0.161744   Left   4.00       122314  \n",
       "9                NaN  medium      0.105749   Left   4.00       122394  "
      ]
     },
     "execution_count": 255,
     "metadata": {},
     "output_type": "execute_result"
    }
   ],
   "source": [
    "employee_data.head(10)"
   ]
  },
  {
   "cell_type": "code",
   "execution_count": 256,
   "metadata": {},
   "outputs": [
    {
     "data": {
      "text/html": [
       "<div>\n",
       "<style scoped>\n",
       "    .dataframe tbody tr th:only-of-type {\n",
       "        vertical-align: middle;\n",
       "    }\n",
       "\n",
       "    .dataframe tbody tr th {\n",
       "        vertical-align: top;\n",
       "    }\n",
       "\n",
       "    .dataframe thead th {\n",
       "        text-align: right;\n",
       "    }\n",
       "</style>\n",
       "<table border=\"1\" class=\"dataframe\">\n",
       "  <thead>\n",
       "    <tr style=\"text-align: right;\">\n",
       "      <th></th>\n",
       "      <th>last_evaluation</th>\n",
       "      <th>n_projects</th>\n",
       "      <th>recently_promoted</th>\n",
       "      <th>satisfaction</th>\n",
       "      <th>employee_id</th>\n",
       "    </tr>\n",
       "  </thead>\n",
       "  <tbody>\n",
       "    <tr>\n",
       "      <th>count</th>\n",
       "      <td>12663.000000</td>\n",
       "      <td>14150.000000</td>\n",
       "      <td>297.0</td>\n",
       "      <td>14000.000000</td>\n",
       "      <td>14150.000000</td>\n",
       "    </tr>\n",
       "    <tr>\n",
       "      <th>mean</th>\n",
       "      <td>0.718399</td>\n",
       "      <td>3.778304</td>\n",
       "      <td>1.0</td>\n",
       "      <td>0.621212</td>\n",
       "      <td>112080.750247</td>\n",
       "    </tr>\n",
       "    <tr>\n",
       "      <th>std</th>\n",
       "      <td>0.173108</td>\n",
       "      <td>1.250162</td>\n",
       "      <td>0.0</td>\n",
       "      <td>0.250482</td>\n",
       "      <td>8748.202856</td>\n",
       "    </tr>\n",
       "    <tr>\n",
       "      <th>min</th>\n",
       "      <td>0.316175</td>\n",
       "      <td>1.000000</td>\n",
       "      <td>1.0</td>\n",
       "      <td>0.040058</td>\n",
       "      <td>0.000000</td>\n",
       "    </tr>\n",
       "    <tr>\n",
       "      <th>25%</th>\n",
       "      <td>0.563711</td>\n",
       "      <td>3.000000</td>\n",
       "      <td>1.0</td>\n",
       "      <td>0.450356</td>\n",
       "      <td>105772.500000</td>\n",
       "    </tr>\n",
       "    <tr>\n",
       "      <th>50%</th>\n",
       "      <td>0.724731</td>\n",
       "      <td>4.000000</td>\n",
       "      <td>1.0</td>\n",
       "      <td>0.652394</td>\n",
       "      <td>111291.500000</td>\n",
       "    </tr>\n",
       "    <tr>\n",
       "      <th>75%</th>\n",
       "      <td>0.871409</td>\n",
       "      <td>5.000000</td>\n",
       "      <td>1.0</td>\n",
       "      <td>0.824925</td>\n",
       "      <td>116650.750000</td>\n",
       "    </tr>\n",
       "    <tr>\n",
       "      <th>max</th>\n",
       "      <td>1.000000</td>\n",
       "      <td>7.000000</td>\n",
       "      <td>1.0</td>\n",
       "      <td>1.000000</td>\n",
       "      <td>148988.000000</td>\n",
       "    </tr>\n",
       "  </tbody>\n",
       "</table>\n",
       "</div>"
      ],
      "text/plain": [
       "       last_evaluation    n_projects  recently_promoted  satisfaction  \\\n",
       "count     12663.000000  14150.000000              297.0  14000.000000   \n",
       "mean          0.718399      3.778304                1.0      0.621212   \n",
       "std           0.173108      1.250162                0.0      0.250482   \n",
       "min           0.316175      1.000000                1.0      0.040058   \n",
       "25%           0.563711      3.000000                1.0      0.450356   \n",
       "50%           0.724731      4.000000                1.0      0.652394   \n",
       "75%           0.871409      5.000000                1.0      0.824925   \n",
       "max           1.000000      7.000000                1.0      1.000000   \n",
       "\n",
       "         employee_id  \n",
       "count   14150.000000  \n",
       "mean   112080.750247  \n",
       "std      8748.202856  \n",
       "min         0.000000  \n",
       "25%    105772.500000  \n",
       "50%    111291.500000  \n",
       "75%    116650.750000  \n",
       "max    148988.000000  "
      ]
     },
     "execution_count": 256,
     "metadata": {},
     "output_type": "execute_result"
    }
   ],
   "source": [
    "employee_data.describe()"
   ]
  },
  {
   "cell_type": "code",
   "execution_count": 257,
   "metadata": {},
   "outputs": [
    {
     "name": "stdout",
     "output_type": "stream",
     "text": [
      "<class 'pandas.core.frame.DataFrame'>\n",
      "RangeIndex: 14150 entries, 0 to 14149\n",
      "Data columns (total 11 columns):\n",
      "avg_monthly_hrs      14150 non-null object\n",
      "department           13443 non-null object\n",
      "filed_complaint      2046 non-null object\n",
      "last_evaluation      12663 non-null float64\n",
      "n_projects           14150 non-null int64\n",
      "recently_promoted    297 non-null float64\n",
      "salary               14150 non-null object\n",
      "satisfaction         14000 non-null float64\n",
      "status               14150 non-null object\n",
      "tenure               14000 non-null object\n",
      "employee_id          14150 non-null int64\n",
      "dtypes: float64(3), int64(2), object(6)\n",
      "memory usage: 1.2+ MB\n"
     ]
    }
   ],
   "source": [
    "employee_data.info()"
   ]
  },
  {
   "cell_type": "markdown",
   "metadata": {},
   "source": [
    "**Note** : employee_data table has missing data in the below columns:<br>\n",
    "a. tenure (150 records) <br>\n",
    "b. satisfaction(150 records) <br>\n",
    "c. last_evaluation(1487 records) <br>\n",
    "d. department(707 records) <br>\n",
    "e. filed_commplaint(12104) <br>\n",
    "f. recently_promoted(13853)<br>\n",
    "\n",
    "Missing data has to be handled."
   ]
  },
  {
   "cell_type": "code",
   "execution_count": 206,
   "metadata": {},
   "outputs": [
    {
     "data": {
      "text/plain": [
       "14117"
      ]
     },
     "execution_count": 206,
     "metadata": {},
     "output_type": "execute_result"
    }
   ],
   "source": [
    "employee_data.employee_id.nunique()"
   ]
  },
  {
   "cell_type": "markdown",
   "metadata": {},
   "source": [
    "**Note**: employee_data has only 14117 unique employee ids our of 14150 records. Looks like there are 33 duplicate records"
   ]
  },
  {
   "cell_type": "code",
   "execution_count": 41,
   "metadata": {},
   "outputs": [
    {
     "data": {
      "text/plain": [
       "33"
      ]
     },
     "execution_count": 41,
     "metadata": {},
     "output_type": "execute_result"
    }
   ],
   "source": [
    "employee_data.employee_id.duplicated().sum()"
   ]
  },
  {
   "cell_type": "code",
   "execution_count": 207,
   "metadata": {},
   "outputs": [
    {
     "data": {
      "text/html": [
       "<div>\n",
       "<style scoped>\n",
       "    .dataframe tbody tr th:only-of-type {\n",
       "        vertical-align: middle;\n",
       "    }\n",
       "\n",
       "    .dataframe tbody tr th {\n",
       "        vertical-align: top;\n",
       "    }\n",
       "\n",
       "    .dataframe thead th {\n",
       "        text-align: right;\n",
       "    }\n",
       "</style>\n",
       "<table border=\"1\" class=\"dataframe\">\n",
       "  <thead>\n",
       "    <tr style=\"text-align: right;\">\n",
       "      <th></th>\n",
       "      <th>avg_monthly_hrs</th>\n",
       "      <th>department</th>\n",
       "      <th>filed_complaint</th>\n",
       "      <th>last_evaluation</th>\n",
       "      <th>n_projects</th>\n",
       "      <th>recently_promoted</th>\n",
       "      <th>salary</th>\n",
       "      <th>satisfaction</th>\n",
       "      <th>status</th>\n",
       "      <th>tenure</th>\n",
       "      <th>employee_id</th>\n",
       "    </tr>\n",
       "  </thead>\n",
       "  <tbody>\n",
       "    <tr>\n",
       "      <th>34</th>\n",
       "      <td>284.00</td>\n",
       "      <td>D00-SS</td>\n",
       "      <td>None</td>\n",
       "      <td>0.852702</td>\n",
       "      <td>6</td>\n",
       "      <td>NaN</td>\n",
       "      <td>low</td>\n",
       "      <td>0.069168</td>\n",
       "      <td>Left</td>\n",
       "      <td>4.00</td>\n",
       "      <td>0</td>\n",
       "    </tr>\n",
       "    <tr>\n",
       "      <th>304</th>\n",
       "      <td>264.00</td>\n",
       "      <td>D00-ENG</td>\n",
       "      <td>None</td>\n",
       "      <td>0.774554</td>\n",
       "      <td>6</td>\n",
       "      <td>NaN</td>\n",
       "      <td>low</td>\n",
       "      <td>0.110974</td>\n",
       "      <td>Left</td>\n",
       "      <td>4.00</td>\n",
       "      <td>0</td>\n",
       "    </tr>\n",
       "    <tr>\n",
       "      <th>374</th>\n",
       "      <td>307.00</td>\n",
       "      <td>D00-IT</td>\n",
       "      <td>None</td>\n",
       "      <td>0.905708</td>\n",
       "      <td>7</td>\n",
       "      <td>NaN</td>\n",
       "      <td>low</td>\n",
       "      <td>0.125275</td>\n",
       "      <td>Left</td>\n",
       "      <td>4.00</td>\n",
       "      <td>111323</td>\n",
       "    </tr>\n",
       "    <tr>\n",
       "      <th>1234</th>\n",
       "      <td>129.00</td>\n",
       "      <td>D00-SP</td>\n",
       "      <td>None</td>\n",
       "      <td>0.402660</td>\n",
       "      <td>2</td>\n",
       "      <td>NaN</td>\n",
       "      <td>medium</td>\n",
       "      <td>0.437359</td>\n",
       "      <td>Left</td>\n",
       "      <td>3.00</td>\n",
       "      <td>0</td>\n",
       "    </tr>\n",
       "    <tr>\n",
       "      <th>1438</th>\n",
       "      <td>282.00</td>\n",
       "      <td>D00-SS</td>\n",
       "      <td>None</td>\n",
       "      <td>0.875427</td>\n",
       "      <td>6</td>\n",
       "      <td>NaN</td>\n",
       "      <td>low</td>\n",
       "      <td>0.065908</td>\n",
       "      <td>Left</td>\n",
       "      <td>4.00</td>\n",
       "      <td>116247</td>\n",
       "    </tr>\n",
       "    <tr>\n",
       "      <th>...</th>\n",
       "      <td>...</td>\n",
       "      <td>...</td>\n",
       "      <td>...</td>\n",
       "      <td>...</td>\n",
       "      <td>...</td>\n",
       "      <td>...</td>\n",
       "      <td>...</td>\n",
       "      <td>...</td>\n",
       "      <td>...</td>\n",
       "      <td>...</td>\n",
       "      <td>...</td>\n",
       "    </tr>\n",
       "    <tr>\n",
       "      <th>14145</th>\n",
       "      <td>245.00</td>\n",
       "      <td>D00-SS</td>\n",
       "      <td>None</td>\n",
       "      <td>0.850785</td>\n",
       "      <td>6</td>\n",
       "      <td>NaN</td>\n",
       "      <td>medium</td>\n",
       "      <td>0.225084</td>\n",
       "      <td>Employed</td>\n",
       "      <td>5.00</td>\n",
       "      <td>101809</td>\n",
       "    </tr>\n",
       "    <tr>\n",
       "      <th>14146</th>\n",
       "      <td>192.00</td>\n",
       "      <td>D00-SS</td>\n",
       "      <td>None</td>\n",
       "      <td>0.951901</td>\n",
       "      <td>3</td>\n",
       "      <td>NaN</td>\n",
       "      <td>medium</td>\n",
       "      <td>0.539834</td>\n",
       "      <td>Employed</td>\n",
       "      <td>3.00</td>\n",
       "      <td>116153</td>\n",
       "    </tr>\n",
       "    <tr>\n",
       "      <th>14147</th>\n",
       "      <td>175.00</td>\n",
       "      <td>D00-MN</td>\n",
       "      <td>None</td>\n",
       "      <td>0.854538</td>\n",
       "      <td>4</td>\n",
       "      <td>NaN</td>\n",
       "      <td>medium</td>\n",
       "      <td>0.934465</td>\n",
       "      <td>Employed</td>\n",
       "      <td>3.00</td>\n",
       "      <td>119780</td>\n",
       "    </tr>\n",
       "    <tr>\n",
       "      <th>14148</th>\n",
       "      <td>268.00</td>\n",
       "      <td>D00-MT</td>\n",
       "      <td>None</td>\n",
       "      <td>0.900887</td>\n",
       "      <td>5</td>\n",
       "      <td>NaN</td>\n",
       "      <td>medium</td>\n",
       "      <td>0.906613</td>\n",
       "      <td>Left</td>\n",
       "      <td>5.00</td>\n",
       "      <td>115325</td>\n",
       "    </tr>\n",
       "    <tr>\n",
       "      <th>14149</th>\n",
       "      <td>268.00</td>\n",
       "      <td>D00-IT</td>\n",
       "      <td>1.00</td>\n",
       "      <td>0.897098</td>\n",
       "      <td>2</td>\n",
       "      <td>NaN</td>\n",
       "      <td>low</td>\n",
       "      <td>0.459371</td>\n",
       "      <td>Employed</td>\n",
       "      <td>4.00</td>\n",
       "      <td>112312</td>\n",
       "    </tr>\n",
       "  </tbody>\n",
       "</table>\n",
       "<p>63 rows × 11 columns</p>\n",
       "</div>"
      ],
      "text/plain": [
       "      avg_monthly_hrs department filed_complaint  last_evaluation  n_projects  \\\n",
       "34             284.00     D00-SS            None         0.852702           6   \n",
       "304            264.00    D00-ENG            None         0.774554           6   \n",
       "374            307.00     D00-IT            None         0.905708           7   \n",
       "1234           129.00     D00-SP            None         0.402660           2   \n",
       "1438           282.00     D00-SS            None         0.875427           6   \n",
       "...               ...        ...             ...              ...         ...   \n",
       "14145          245.00     D00-SS            None         0.850785           6   \n",
       "14146          192.00     D00-SS            None         0.951901           3   \n",
       "14147          175.00     D00-MN            None         0.854538           4   \n",
       "14148          268.00     D00-MT            None         0.900887           5   \n",
       "14149          268.00     D00-IT            1.00         0.897098           2   \n",
       "\n",
       "       recently_promoted  salary  satisfaction    status tenure  employee_id  \n",
       "34                   NaN     low      0.069168      Left   4.00            0  \n",
       "304                  NaN     low      0.110974      Left   4.00            0  \n",
       "374                  NaN     low      0.125275      Left   4.00       111323  \n",
       "1234                 NaN  medium      0.437359      Left   3.00            0  \n",
       "1438                 NaN     low      0.065908      Left   4.00       116247  \n",
       "...                  ...     ...           ...       ...    ...          ...  \n",
       "14145                NaN  medium      0.225084  Employed   5.00       101809  \n",
       "14146                NaN  medium      0.539834  Employed   3.00       116153  \n",
       "14147                NaN  medium      0.934465  Employed   3.00       119780  \n",
       "14148                NaN  medium      0.906613      Left   5.00       115325  \n",
       "14149                NaN     low      0.459371  Employed   4.00       112312  \n",
       "\n",
       "[63 rows x 11 columns]"
      ]
     },
     "execution_count": 207,
     "metadata": {},
     "output_type": "execute_result"
    }
   ],
   "source": [
    "employee_data[employee_data.employee_id.duplicated(keep=False)]"
   ]
  },
  {
   "cell_type": "markdown",
   "metadata": {},
   "source": [
    "**Note** : There are 33 repeated employee ids. Also, we noted that there are 4 employee_ids with value 0. Duplicate records needs to be dropped and employee_ids with value 0 has to be deleted."
   ]
  },
  {
   "cell_type": "code",
   "execution_count": 23,
   "metadata": {},
   "outputs": [
    {
     "data": {
      "text/plain": [
       "avg_monthly_hrs        249\n",
       "department              12\n",
       "filed_complaint          1\n",
       "last_evaluation      12188\n",
       "n_projects               7\n",
       "recently_promoted        1\n",
       "salary                   3\n",
       "satisfaction         13497\n",
       "status                   2\n",
       "tenure                   8\n",
       "employee_id          14117\n",
       "dtype: int64"
      ]
     },
     "execution_count": 23,
     "metadata": {},
     "output_type": "execute_result"
    }
   ],
   "source": [
    "employee_data.nunique()"
   ]
  },
  {
   "cell_type": "code",
   "execution_count": 208,
   "metadata": {},
   "outputs": [
    {
     "data": {
      "text/plain": [
       "array([None, 'D00-SS', 'D00-SP', 'D00-MT', 'D00-PD', 'D00-IT', 'D00-AD',\n",
       "       'D00-MN', 'D00-ENG', 'D00-PR', 'D00-TP', 'D00-FN', '-IT'],\n",
       "      dtype=object)"
      ]
     },
     "execution_count": 208,
     "metadata": {},
     "output_type": "execute_result"
    }
   ],
   "source": [
    "employee_data.department.unique()"
   ]
  },
  {
   "cell_type": "markdown",
   "metadata": {},
   "source": [
    "**Note**: There are 12 departments in employee_data where as in department_data there are only 11 departments. emplyee_data has an additional department: '-IT'. Looks like this is an error while entering the data. The department should have been 'D00-IT'"
   ]
  },
  {
   "cell_type": "code",
   "execution_count": 7,
   "metadata": {},
   "outputs": [
    {
     "data": {
      "text/html": [
       "<div>\n",
       "<style scoped>\n",
       "    .dataframe tbody tr th:only-of-type {\n",
       "        vertical-align: middle;\n",
       "    }\n",
       "\n",
       "    .dataframe tbody tr th {\n",
       "        vertical-align: top;\n",
       "    }\n",
       "\n",
       "    .dataframe thead th {\n",
       "        text-align: right;\n",
       "    }\n",
       "</style>\n",
       "<table border=\"1\" class=\"dataframe\">\n",
       "  <thead>\n",
       "    <tr style=\"text-align: right;\">\n",
       "      <th></th>\n",
       "      <th>avg_monthly_hrs</th>\n",
       "      <th>department</th>\n",
       "      <th>filed_complaint</th>\n",
       "      <th>last_evaluation</th>\n",
       "      <th>n_projects</th>\n",
       "      <th>recently_promoted</th>\n",
       "      <th>salary</th>\n",
       "      <th>satisfaction</th>\n",
       "      <th>status</th>\n",
       "      <th>tenure</th>\n",
       "      <th>employee_id</th>\n",
       "    </tr>\n",
       "  </thead>\n",
       "  <tbody>\n",
       "    <tr>\n",
       "      <th>34</th>\n",
       "      <td>284.00</td>\n",
       "      <td>D00-SS</td>\n",
       "      <td>None</td>\n",
       "      <td>0.852702</td>\n",
       "      <td>6</td>\n",
       "      <td>NaN</td>\n",
       "      <td>low</td>\n",
       "      <td>0.069168</td>\n",
       "      <td>Left</td>\n",
       "      <td>4.00</td>\n",
       "      <td>0</td>\n",
       "    </tr>\n",
       "    <tr>\n",
       "      <th>304</th>\n",
       "      <td>264.00</td>\n",
       "      <td>D00-ENG</td>\n",
       "      <td>None</td>\n",
       "      <td>0.774554</td>\n",
       "      <td>6</td>\n",
       "      <td>NaN</td>\n",
       "      <td>low</td>\n",
       "      <td>0.110974</td>\n",
       "      <td>Left</td>\n",
       "      <td>4.00</td>\n",
       "      <td>0</td>\n",
       "    </tr>\n",
       "    <tr>\n",
       "      <th>1234</th>\n",
       "      <td>129.00</td>\n",
       "      <td>D00-SP</td>\n",
       "      <td>None</td>\n",
       "      <td>0.402660</td>\n",
       "      <td>2</td>\n",
       "      <td>NaN</td>\n",
       "      <td>medium</td>\n",
       "      <td>0.437359</td>\n",
       "      <td>Left</td>\n",
       "      <td>3.00</td>\n",
       "      <td>0</td>\n",
       "    </tr>\n",
       "    <tr>\n",
       "      <th>11304</th>\n",
       "      <td>167.00</td>\n",
       "      <td>None</td>\n",
       "      <td>None</td>\n",
       "      <td>0.880053</td>\n",
       "      <td>5</td>\n",
       "      <td>NaN</td>\n",
       "      <td>low</td>\n",
       "      <td>0.682140</td>\n",
       "      <td>Employed</td>\n",
       "      <td>3.00</td>\n",
       "      <td>0</td>\n",
       "    </tr>\n",
       "    <tr>\n",
       "      <th>12304</th>\n",
       "      <td>259.00</td>\n",
       "      <td>D00-ENG</td>\n",
       "      <td>None</td>\n",
       "      <td>0.505883</td>\n",
       "      <td>5</td>\n",
       "      <td>NaN</td>\n",
       "      <td>low</td>\n",
       "      <td>0.631046</td>\n",
       "      <td>Employed</td>\n",
       "      <td>4.00</td>\n",
       "      <td>0</td>\n",
       "    </tr>\n",
       "  </tbody>\n",
       "</table>\n",
       "</div>"
      ],
      "text/plain": [
       "      avg_monthly_hrs department filed_complaint  last_evaluation  n_projects  \\\n",
       "34             284.00     D00-SS            None         0.852702           6   \n",
       "304            264.00    D00-ENG            None         0.774554           6   \n",
       "1234           129.00     D00-SP            None         0.402660           2   \n",
       "11304          167.00       None            None         0.880053           5   \n",
       "12304          259.00    D00-ENG            None         0.505883           5   \n",
       "\n",
       "       recently_promoted  salary  satisfaction    status tenure  employee_id  \n",
       "34                   NaN     low      0.069168      Left   4.00            0  \n",
       "304                  NaN     low      0.110974      Left   4.00            0  \n",
       "1234                 NaN  medium      0.437359      Left   3.00            0  \n",
       "11304                NaN     low      0.682140  Employed   3.00            0  \n",
       "12304                NaN     low      0.631046  Employed   4.00            0  "
      ]
     },
     "execution_count": 7,
     "metadata": {},
     "output_type": "execute_result"
    }
   ],
   "source": [
    "employee_data[employee_data['employee_id'] == 0]"
   ]
  },
  {
   "cell_type": "code",
   "execution_count": 4,
   "metadata": {},
   "outputs": [
    {
     "data": {
      "text/plain": [
       "Employed    10784\n",
       "Left         3366\n",
       "Name: status, dtype: int64"
      ]
     },
     "execution_count": 4,
     "metadata": {},
     "output_type": "execute_result"
    }
   ],
   "source": [
    "employee_data.status.value_counts()"
   ]
  },
  {
   "cell_type": "markdown",
   "metadata": {},
   "source": [
    "#### Exploring employee_details_data"
   ]
  },
  {
   "cell_type": "code",
   "execution_count": 8,
   "metadata": {},
   "outputs": [
    {
     "data": {
      "text/html": [
       "<div>\n",
       "<style scoped>\n",
       "    .dataframe tbody tr th:only-of-type {\n",
       "        vertical-align: middle;\n",
       "    }\n",
       "\n",
       "    .dataframe tbody tr th {\n",
       "        vertical-align: top;\n",
       "    }\n",
       "\n",
       "    .dataframe thead th {\n",
       "        text-align: right;\n",
       "    }\n",
       "</style>\n",
       "<table border=\"1\" class=\"dataframe\">\n",
       "  <thead>\n",
       "    <tr style=\"text-align: right;\">\n",
       "      <th></th>\n",
       "      <th>employee_id</th>\n",
       "      <th>age</th>\n",
       "      <th>gender</th>\n",
       "      <th>marital_status</th>\n",
       "    </tr>\n",
       "  </thead>\n",
       "  <tbody>\n",
       "    <tr>\n",
       "      <th>0</th>\n",
       "      <td>113558</td>\n",
       "      <td>43</td>\n",
       "      <td>Male</td>\n",
       "      <td>Married</td>\n",
       "    </tr>\n",
       "    <tr>\n",
       "      <th>1</th>\n",
       "      <td>112256</td>\n",
       "      <td>24</td>\n",
       "      <td>Female</td>\n",
       "      <td>Unmarried</td>\n",
       "    </tr>\n",
       "    <tr>\n",
       "      <th>2</th>\n",
       "      <td>112586</td>\n",
       "      <td>22</td>\n",
       "      <td>Female</td>\n",
       "      <td>Unmarried</td>\n",
       "    </tr>\n",
       "    <tr>\n",
       "      <th>3</th>\n",
       "      <td>108071</td>\n",
       "      <td>36</td>\n",
       "      <td>Male</td>\n",
       "      <td>Married</td>\n",
       "    </tr>\n",
       "    <tr>\n",
       "      <th>4</th>\n",
       "      <td>116915</td>\n",
       "      <td>38</td>\n",
       "      <td>Male</td>\n",
       "      <td>Married</td>\n",
       "    </tr>\n",
       "  </tbody>\n",
       "</table>\n",
       "</div>"
      ],
      "text/plain": [
       "   employee_id  age  gender marital_status\n",
       "0       113558   43    Male        Married\n",
       "1       112256   24  Female      Unmarried\n",
       "2       112586   22  Female      Unmarried\n",
       "3       108071   36    Male        Married\n",
       "4       116915   38    Male        Married"
      ]
     },
     "execution_count": 8,
     "metadata": {},
     "output_type": "execute_result"
    }
   ],
   "source": [
    "employee_details_data.head()"
   ]
  },
  {
   "cell_type": "code",
   "execution_count": 9,
   "metadata": {},
   "outputs": [
    {
     "data": {
      "text/html": [
       "<div>\n",
       "<style scoped>\n",
       "    .dataframe tbody tr th:only-of-type {\n",
       "        vertical-align: middle;\n",
       "    }\n",
       "\n",
       "    .dataframe tbody tr th {\n",
       "        vertical-align: top;\n",
       "    }\n",
       "\n",
       "    .dataframe thead th {\n",
       "        text-align: right;\n",
       "    }\n",
       "</style>\n",
       "<table border=\"1\" class=\"dataframe\">\n",
       "  <thead>\n",
       "    <tr style=\"text-align: right;\">\n",
       "      <th></th>\n",
       "      <th>employee_id</th>\n",
       "      <th>age</th>\n",
       "    </tr>\n",
       "  </thead>\n",
       "  <tbody>\n",
       "    <tr>\n",
       "      <th>count</th>\n",
       "      <td>14245.000000</td>\n",
       "      <td>14245.000000</td>\n",
       "    </tr>\n",
       "    <tr>\n",
       "      <th>mean</th>\n",
       "      <td>112123.050544</td>\n",
       "      <td>32.889926</td>\n",
       "    </tr>\n",
       "    <tr>\n",
       "      <th>std</th>\n",
       "      <td>8500.457343</td>\n",
       "      <td>9.970834</td>\n",
       "    </tr>\n",
       "    <tr>\n",
       "      <th>min</th>\n",
       "      <td>100101.000000</td>\n",
       "      <td>22.000000</td>\n",
       "    </tr>\n",
       "    <tr>\n",
       "      <th>25%</th>\n",
       "      <td>105775.000000</td>\n",
       "      <td>24.000000</td>\n",
       "    </tr>\n",
       "    <tr>\n",
       "      <th>50%</th>\n",
       "      <td>111298.000000</td>\n",
       "      <td>29.000000</td>\n",
       "    </tr>\n",
       "    <tr>\n",
       "      <th>75%</th>\n",
       "      <td>116658.000000</td>\n",
       "      <td>41.000000</td>\n",
       "    </tr>\n",
       "    <tr>\n",
       "      <th>max</th>\n",
       "      <td>148988.000000</td>\n",
       "      <td>57.000000</td>\n",
       "    </tr>\n",
       "  </tbody>\n",
       "</table>\n",
       "</div>"
      ],
      "text/plain": [
       "         employee_id           age\n",
       "count   14245.000000  14245.000000\n",
       "mean   112123.050544     32.889926\n",
       "std      8500.457343      9.970834\n",
       "min    100101.000000     22.000000\n",
       "25%    105775.000000     24.000000\n",
       "50%    111298.000000     29.000000\n",
       "75%    116658.000000     41.000000\n",
       "max    148988.000000     57.000000"
      ]
     },
     "execution_count": 9,
     "metadata": {},
     "output_type": "execute_result"
    }
   ],
   "source": [
    "employee_details_data.describe()"
   ]
  },
  {
   "cell_type": "code",
   "execution_count": 7,
   "metadata": {},
   "outputs": [
    {
     "name": "stdout",
     "output_type": "stream",
     "text": [
      "<class 'pandas.core.frame.DataFrame'>\n",
      "RangeIndex: 14245 entries, 0 to 14244\n",
      "Data columns (total 4 columns):\n",
      "employee_id       14245 non-null int64\n",
      "age               14245 non-null int64\n",
      "gender            14245 non-null object\n",
      "marital_status    14245 non-null object\n",
      "dtypes: int64(2), object(2)\n",
      "memory usage: 445.3+ KB\n"
     ]
    }
   ],
   "source": [
    "employee_details_data.info()"
   ]
  },
  {
   "cell_type": "code",
   "execution_count": 53,
   "metadata": {},
   "outputs": [
    {
     "data": {
      "text/plain": [
       "14245"
      ]
     },
     "execution_count": 53,
     "metadata": {},
     "output_type": "execute_result"
    }
   ],
   "source": [
    "employee_details_data.employee_id.nunique()"
   ]
  },
  {
   "cell_type": "markdown",
   "metadata": {},
   "source": [
    "**Note**: There are 14245 unique employee_ids in employee_details_data. Where as in employee_data, there are only 14117 unique records. Employee_data has 128 employee_ids missing. "
   ]
  },
  {
   "cell_type": "code",
   "execution_count": 11,
   "metadata": {},
   "outputs": [
    {
     "data": {
      "text/html": [
       "<div>\n",
       "<style scoped>\n",
       "    .dataframe tbody tr th:only-of-type {\n",
       "        vertical-align: middle;\n",
       "    }\n",
       "\n",
       "    .dataframe tbody tr th {\n",
       "        vertical-align: top;\n",
       "    }\n",
       "\n",
       "    .dataframe thead th {\n",
       "        text-align: right;\n",
       "    }\n",
       "</style>\n",
       "<table border=\"1\" class=\"dataframe\">\n",
       "  <thead>\n",
       "    <tr style=\"text-align: right;\">\n",
       "      <th></th>\n",
       "      <th>employee_id</th>\n",
       "      <th>age</th>\n",
       "      <th>gender</th>\n",
       "      <th>marital_status</th>\n",
       "    </tr>\n",
       "  </thead>\n",
       "  <tbody>\n",
       "  </tbody>\n",
       "</table>\n",
       "</div>"
      ],
      "text/plain": [
       "Empty DataFrame\n",
       "Columns: [employee_id, age, gender, marital_status]\n",
       "Index: []"
      ]
     },
     "execution_count": 11,
     "metadata": {},
     "output_type": "execute_result"
    }
   ],
   "source": [
    "employee_details_data[employee_details_data['employee_id'] == 0]"
   ]
  },
  {
   "cell_type": "markdown",
   "metadata": {},
   "source": [
    "# \t2. Fix Structural Errors"
   ]
  },
  {
   "cell_type": "markdown",
   "metadata": {},
   "source": [
    "### Dropping duplicate columns:"
   ]
  },
  {
   "cell_type": "code",
   "execution_count": 258,
   "metadata": {},
   "outputs": [],
   "source": [
    "employee_data = employee_data.drop_duplicates()"
   ]
  },
  {
   "cell_type": "markdown",
   "metadata": {},
   "source": [
    "### Dropping employee_id=0 columns:"
   ]
  },
  {
   "cell_type": "code",
   "execution_count": 259,
   "metadata": {},
   "outputs": [
    {
     "data": {
      "text/plain": [
       "Int64Index([34, 304, 1234, 11304, 12304], dtype='int64')"
      ]
     },
     "execution_count": 259,
     "metadata": {},
     "output_type": "execute_result"
    }
   ],
   "source": [
    "employee_data[employee_data['employee_id'] == 0].index"
   ]
  },
  {
   "cell_type": "code",
   "execution_count": 261,
   "metadata": {},
   "outputs": [],
   "source": [
    "employee_data = employee_data.drop(employee_data[employee_data['employee_id'] == 0].index)\n",
    "#data.drop([\"EventID\"], axis = 1, inplace = True)"
   ]
  },
  {
   "cell_type": "code",
   "execution_count": 212,
   "metadata": {},
   "outputs": [
    {
     "data": {
      "text/plain": [
       "avg_monthly_hrs      14116\n",
       "department           13410\n",
       "filed_complaint       2041\n",
       "last_evaluation      12629\n",
       "n_projects           14116\n",
       "recently_promoted      297\n",
       "salary               14116\n",
       "satisfaction         13966\n",
       "status               14116\n",
       "tenure               13966\n",
       "employee_id          14116\n",
       "dtype: int64"
      ]
     },
     "execution_count": 212,
     "metadata": {},
     "output_type": "execute_result"
    }
   ],
   "source": [
    "employee_data.count()"
   ]
  },
  {
   "cell_type": "code",
   "execution_count": 106,
   "metadata": {},
   "outputs": [
    {
     "data": {
      "text/html": [
       "<div>\n",
       "<style scoped>\n",
       "    .dataframe tbody tr th:only-of-type {\n",
       "        vertical-align: middle;\n",
       "    }\n",
       "\n",
       "    .dataframe tbody tr th {\n",
       "        vertical-align: top;\n",
       "    }\n",
       "\n",
       "    .dataframe thead th {\n",
       "        text-align: right;\n",
       "    }\n",
       "</style>\n",
       "<table border=\"1\" class=\"dataframe\">\n",
       "  <thead>\n",
       "    <tr style=\"text-align: right;\">\n",
       "      <th></th>\n",
       "      <th>avg_monthly_hrs</th>\n",
       "      <th>department</th>\n",
       "      <th>filed_complaint</th>\n",
       "      <th>last_evaluation</th>\n",
       "      <th>n_projects</th>\n",
       "      <th>recently_promoted</th>\n",
       "      <th>salary</th>\n",
       "      <th>satisfaction</th>\n",
       "      <th>status</th>\n",
       "      <th>tenure</th>\n",
       "      <th>employee_id</th>\n",
       "    </tr>\n",
       "  </thead>\n",
       "  <tbody>\n",
       "    <tr>\n",
       "      <th>0</th>\n",
       "      <td>246.0</td>\n",
       "      <td>D00-SS</td>\n",
       "      <td>0</td>\n",
       "      <td>0.866838</td>\n",
       "      <td>6</td>\n",
       "      <td>0.0</td>\n",
       "      <td>medium</td>\n",
       "      <td>0.134415</td>\n",
       "      <td>Left</td>\n",
       "      <td>4.0</td>\n",
       "      <td>124467</td>\n",
       "    </tr>\n",
       "    <tr>\n",
       "      <th>1</th>\n",
       "      <td>134.0</td>\n",
       "      <td>D00-SS</td>\n",
       "      <td>0</td>\n",
       "      <td>0.555718</td>\n",
       "      <td>2</td>\n",
       "      <td>0.0</td>\n",
       "      <td>low</td>\n",
       "      <td>0.511041</td>\n",
       "      <td>Left</td>\n",
       "      <td>3.0</td>\n",
       "      <td>112210</td>\n",
       "    </tr>\n",
       "    <tr>\n",
       "      <th>2</th>\n",
       "      <td>156.0</td>\n",
       "      <td>D00-SS</td>\n",
       "      <td>1</td>\n",
       "      <td>0.474082</td>\n",
       "      <td>2</td>\n",
       "      <td>0.0</td>\n",
       "      <td>medium</td>\n",
       "      <td>0.405101</td>\n",
       "      <td>Left</td>\n",
       "      <td>3.0</td>\n",
       "      <td>126150</td>\n",
       "    </tr>\n",
       "    <tr>\n",
       "      <th>3</th>\n",
       "      <td>256.0</td>\n",
       "      <td>D00-SP</td>\n",
       "      <td>0</td>\n",
       "      <td>0.961360</td>\n",
       "      <td>6</td>\n",
       "      <td>0.0</td>\n",
       "      <td>low</td>\n",
       "      <td>0.152974</td>\n",
       "      <td>Left</td>\n",
       "      <td>4.0</td>\n",
       "      <td>125346</td>\n",
       "    </tr>\n",
       "    <tr>\n",
       "      <th>4</th>\n",
       "      <td>146.0</td>\n",
       "      <td>D00-SS</td>\n",
       "      <td>0</td>\n",
       "      <td>0.507349</td>\n",
       "      <td>2</td>\n",
       "      <td>0.0</td>\n",
       "      <td>medium</td>\n",
       "      <td>0.434845</td>\n",
       "      <td>Left</td>\n",
       "      <td>3.0</td>\n",
       "      <td>113707</td>\n",
       "    </tr>\n",
       "    <tr>\n",
       "      <th>5</th>\n",
       "      <td>135.0</td>\n",
       "      <td>D00-MT</td>\n",
       "      <td>0</td>\n",
       "      <td>0.482184</td>\n",
       "      <td>2</td>\n",
       "      <td>0.0</td>\n",
       "      <td>low</td>\n",
       "      <td>0.381545</td>\n",
       "      <td>Left</td>\n",
       "      <td>3.0</td>\n",
       "      <td>121685</td>\n",
       "    </tr>\n",
       "    <tr>\n",
       "      <th>6</th>\n",
       "      <td>270.0</td>\n",
       "      <td>D00-PD</td>\n",
       "      <td>0</td>\n",
       "      <td>0.867087</td>\n",
       "      <td>6</td>\n",
       "      <td>0.0</td>\n",
       "      <td>low</td>\n",
       "      <td>0.172575</td>\n",
       "      <td>Left</td>\n",
       "      <td>4.0</td>\n",
       "      <td>119912</td>\n",
       "    </tr>\n",
       "    <tr>\n",
       "      <th>7</th>\n",
       "      <td>244.0</td>\n",
       "      <td>D00-IT</td>\n",
       "      <td>0</td>\n",
       "      <td>0.926197</td>\n",
       "      <td>6</td>\n",
       "      <td>0.0</td>\n",
       "      <td>medium</td>\n",
       "      <td>0.061868</td>\n",
       "      <td>Left</td>\n",
       "      <td>5.0</td>\n",
       "      <td>112868</td>\n",
       "    </tr>\n",
       "    <tr>\n",
       "      <th>8</th>\n",
       "      <td>289.0</td>\n",
       "      <td>D00-IT</td>\n",
       "      <td>0</td>\n",
       "      <td>0.929858</td>\n",
       "      <td>7</td>\n",
       "      <td>0.0</td>\n",
       "      <td>low</td>\n",
       "      <td>0.161744</td>\n",
       "      <td>Left</td>\n",
       "      <td>4.0</td>\n",
       "      <td>122314</td>\n",
       "    </tr>\n",
       "    <tr>\n",
       "      <th>9</th>\n",
       "      <td>281.0</td>\n",
       "      <td>D00-SS</td>\n",
       "      <td>0</td>\n",
       "      <td>0.907965</td>\n",
       "      <td>6</td>\n",
       "      <td>0.0</td>\n",
       "      <td>medium</td>\n",
       "      <td>0.105749</td>\n",
       "      <td>Left</td>\n",
       "      <td>4.0</td>\n",
       "      <td>122394</td>\n",
       "    </tr>\n",
       "  </tbody>\n",
       "</table>\n",
       "</div>"
      ],
      "text/plain": [
       "   avg_monthly_hrs department  filed_complaint  last_evaluation  n_projects  \\\n",
       "0            246.0     D00-SS                0         0.866838           6   \n",
       "1            134.0     D00-SS                0         0.555718           2   \n",
       "2            156.0     D00-SS                1         0.474082           2   \n",
       "3            256.0     D00-SP                0         0.961360           6   \n",
       "4            146.0     D00-SS                0         0.507349           2   \n",
       "5            135.0     D00-MT                0         0.482184           2   \n",
       "6            270.0     D00-PD                0         0.867087           6   \n",
       "7            244.0     D00-IT                0         0.926197           6   \n",
       "8            289.0     D00-IT                0         0.929858           7   \n",
       "9            281.0     D00-SS                0         0.907965           6   \n",
       "\n",
       "   recently_promoted  salary  satisfaction status  tenure  employee_id  \n",
       "0                0.0  medium      0.134415   Left     4.0       124467  \n",
       "1                0.0     low      0.511041   Left     3.0       112210  \n",
       "2                0.0  medium      0.405101   Left     3.0       126150  \n",
       "3                0.0     low      0.152974   Left     4.0       125346  \n",
       "4                0.0  medium      0.434845   Left     3.0       113707  \n",
       "5                0.0     low      0.381545   Left     3.0       121685  \n",
       "6                0.0     low      0.172575   Left     4.0       119912  \n",
       "7                0.0  medium      0.061868   Left     5.0       112868  \n",
       "8                0.0     low      0.161744   Left     4.0       122314  \n",
       "9                0.0  medium      0.105749   Left     4.0       122394  "
      ]
     },
     "execution_count": 106,
     "metadata": {},
     "output_type": "execute_result"
    }
   ],
   "source": [
    "employee_data.head(10)"
   ]
  },
  {
   "cell_type": "code",
   "execution_count": 262,
   "metadata": {},
   "outputs": [],
   "source": [
    "employee_data['filed_complaint'] = employee_data['filed_complaint'].fillna(0)\n",
    "employee_data['recently_promoted'] = employee_data['recently_promoted'].fillna(0)\n",
    "employee_data['last_evaluation'] = employee_data['last_evaluation'].fillna(0.0)\n",
    "employee_data['satisfaction'] = employee_data['satisfaction'].fillna(0.0)\n",
    "employee_data['tenure'] = employee_data['tenure'].fillna(0.0)"
   ]
  },
  {
   "cell_type": "markdown",
   "metadata": {},
   "source": [
    "### Replace wrong department value '-IT' with 'D00-IT'"
   ]
  },
  {
   "cell_type": "code",
   "execution_count": 263,
   "metadata": {},
   "outputs": [],
   "source": [
    "\n",
    "#employee_data['department'] = employee_data.apply(lambda x: 'D00-IT' if(employee_data['department'] == '-IT' or )  else employee_data['department'], axis =1)\n",
    "\n",
    "employee_data['department'] = employee_data['department'].replace({'-IT': 'D00-IT'})\n"
   ]
  },
  {
   "cell_type": "code",
   "execution_count": 98,
   "metadata": {},
   "outputs": [
    {
     "data": {
      "text/plain": [
       "array([None, 'D00-SS', 'D00-SP', 'D00-MT', 'D00-PD', 'D00-IT', 'D00-AD',\n",
       "       'D00-MN', 'D00-ENG', 'D00-PR', 'D00-TP', 'D00-FN'], dtype=object)"
      ]
     },
     "execution_count": 98,
     "metadata": {},
     "output_type": "execute_result"
    }
   ],
   "source": [
    "employee_data.department.unique()"
   ]
  },
  {
   "cell_type": "markdown",
   "metadata": {},
   "source": [
    "#### Replacing missing department with mode value"
   ]
  },
  {
   "cell_type": "code",
   "execution_count": 264,
   "metadata": {},
   "outputs": [],
   "source": [
    "employee_data['department'] = employee_data['department'].fillna(employee_data['department'].mode()[0])"
   ]
  },
  {
   "cell_type": "code",
   "execution_count": 181,
   "metadata": {},
   "outputs": [
    {
     "name": "stdout",
     "output_type": "stream",
     "text": [
      "<class 'pandas.core.frame.DataFrame'>\n",
      "Int64Index: 14116 entries, 0 to 14120\n",
      "Data columns (total 11 columns):\n",
      "avg_monthly_hrs      14116 non-null object\n",
      "department           14116 non-null object\n",
      "filed_complaint      14116 non-null object\n",
      "last_evaluation      14116 non-null float64\n",
      "n_projects           14116 non-null int64\n",
      "recently_promoted    14116 non-null float64\n",
      "salary               14116 non-null object\n",
      "satisfaction         14116 non-null float64\n",
      "status               14116 non-null object\n",
      "tenure               14116 non-null object\n",
      "employee_id          14116 non-null int64\n",
      "dtypes: float64(3), int64(2), object(6)\n",
      "memory usage: 1.3+ MB\n"
     ]
    }
   ],
   "source": [
    "employee_data.info()"
   ]
  },
  {
   "cell_type": "markdown",
   "metadata": {},
   "source": [
    "**Note**: avg_monthly_hrs, filed_complaint, salary,tenure are considered object types where as they have float values iin those fields. So changing the type of the column to float"
   ]
  },
  {
   "cell_type": "code",
   "execution_count": 265,
   "metadata": {},
   "outputs": [],
   "source": [
    "employee_data['avg_monthly_hrs'] =employee_data['avg_monthly_hrs'].astype('float')\n",
    "employee_data['filed_complaint'] =employee_data['filed_complaint'].astype('int')\n",
    "employee_data['tenure'] =employee_data['tenure'].astype('float')"
   ]
  },
  {
   "cell_type": "code",
   "execution_count": 183,
   "metadata": {},
   "outputs": [
    {
     "data": {
      "text/plain": [
       "0    12075\n",
       "1     2041\n",
       "Name: filed_complaint, dtype: int64"
      ]
     },
     "execution_count": 183,
     "metadata": {},
     "output_type": "execute_result"
    }
   ],
   "source": [
    "employee_data.filed_complaint.value_counts()"
   ]
  },
  {
   "cell_type": "markdown",
   "metadata": {},
   "source": [
    "# Merging Data"
   ]
  },
  {
   "cell_type": "code",
   "execution_count": 266,
   "metadata": {},
   "outputs": [],
   "source": [
    "train_dataset = pd.merge(employee_details_data, employee_data, on='employee_id', how='right') #.merge(department_data, on='department', how='left')"
   ]
  },
  {
   "cell_type": "code",
   "execution_count": 104,
   "metadata": {},
   "outputs": [
    {
     "data": {
      "text/html": [
       "<div>\n",
       "<style scoped>\n",
       "    .dataframe tbody tr th:only-of-type {\n",
       "        vertical-align: middle;\n",
       "    }\n",
       "\n",
       "    .dataframe tbody tr th {\n",
       "        vertical-align: top;\n",
       "    }\n",
       "\n",
       "    .dataframe thead th {\n",
       "        text-align: right;\n",
       "    }\n",
       "</style>\n",
       "<table border=\"1\" class=\"dataframe\">\n",
       "  <thead>\n",
       "    <tr style=\"text-align: right;\">\n",
       "      <th></th>\n",
       "      <th>employee_id</th>\n",
       "      <th>age</th>\n",
       "      <th>gender</th>\n",
       "      <th>marital_status</th>\n",
       "      <th>avg_monthly_hrs</th>\n",
       "      <th>department</th>\n",
       "      <th>filed_complaint</th>\n",
       "      <th>last_evaluation</th>\n",
       "      <th>n_projects</th>\n",
       "      <th>recently_promoted</th>\n",
       "      <th>salary</th>\n",
       "      <th>satisfaction</th>\n",
       "      <th>status</th>\n",
       "      <th>tenure</th>\n",
       "    </tr>\n",
       "  </thead>\n",
       "  <tbody>\n",
       "    <tr>\n",
       "      <th>0</th>\n",
       "      <td>113558</td>\n",
       "      <td>43</td>\n",
       "      <td>Male</td>\n",
       "      <td>Married</td>\n",
       "      <td>111.0</td>\n",
       "      <td>D00-PR</td>\n",
       "      <td>0</td>\n",
       "      <td>0.753977</td>\n",
       "      <td>5</td>\n",
       "      <td>1.0</td>\n",
       "      <td>medium</td>\n",
       "      <td>0.921208</td>\n",
       "      <td>Employed</td>\n",
       "      <td>4.0</td>\n",
       "    </tr>\n",
       "    <tr>\n",
       "      <th>1</th>\n",
       "      <td>112256</td>\n",
       "      <td>24</td>\n",
       "      <td>Female</td>\n",
       "      <td>Unmarried</td>\n",
       "      <td>201.0</td>\n",
       "      <td>D00-MN</td>\n",
       "      <td>0</td>\n",
       "      <td>0.964453</td>\n",
       "      <td>3</td>\n",
       "      <td>0.0</td>\n",
       "      <td>medium</td>\n",
       "      <td>0.568479</td>\n",
       "      <td>Employed</td>\n",
       "      <td>3.0</td>\n",
       "    </tr>\n",
       "    <tr>\n",
       "      <th>2</th>\n",
       "      <td>112586</td>\n",
       "      <td>22</td>\n",
       "      <td>Female</td>\n",
       "      <td>Unmarried</td>\n",
       "      <td>239.0</td>\n",
       "      <td>D00-SS</td>\n",
       "      <td>0</td>\n",
       "      <td>0.756458</td>\n",
       "      <td>3</td>\n",
       "      <td>0.0</td>\n",
       "      <td>low</td>\n",
       "      <td>0.144812</td>\n",
       "      <td>Employed</td>\n",
       "      <td>6.0</td>\n",
       "    </tr>\n",
       "    <tr>\n",
       "      <th>3</th>\n",
       "      <td>108071</td>\n",
       "      <td>36</td>\n",
       "      <td>Male</td>\n",
       "      <td>Married</td>\n",
       "      <td>151.0</td>\n",
       "      <td>D00-PR</td>\n",
       "      <td>0</td>\n",
       "      <td>0.608282</td>\n",
       "      <td>5</td>\n",
       "      <td>0.0</td>\n",
       "      <td>medium</td>\n",
       "      <td>0.210300</td>\n",
       "      <td>Employed</td>\n",
       "      <td>6.0</td>\n",
       "    </tr>\n",
       "    <tr>\n",
       "      <th>4</th>\n",
       "      <td>116915</td>\n",
       "      <td>38</td>\n",
       "      <td>Male</td>\n",
       "      <td>Married</td>\n",
       "      <td>259.0</td>\n",
       "      <td>D00-IT</td>\n",
       "      <td>0</td>\n",
       "      <td>0.749206</td>\n",
       "      <td>4</td>\n",
       "      <td>0.0</td>\n",
       "      <td>medium</td>\n",
       "      <td>0.888514</td>\n",
       "      <td>Employed</td>\n",
       "      <td>3.0</td>\n",
       "    </tr>\n",
       "  </tbody>\n",
       "</table>\n",
       "</div>"
      ],
      "text/plain": [
       "   employee_id  age  gender marital_status  avg_monthly_hrs department  \\\n",
       "0       113558   43    Male        Married            111.0     D00-PR   \n",
       "1       112256   24  Female      Unmarried            201.0     D00-MN   \n",
       "2       112586   22  Female      Unmarried            239.0     D00-SS   \n",
       "3       108071   36    Male        Married            151.0     D00-PR   \n",
       "4       116915   38    Male        Married            259.0     D00-IT   \n",
       "\n",
       "   filed_complaint  last_evaluation  n_projects  recently_promoted  salary  \\\n",
       "0                0         0.753977           5                1.0  medium   \n",
       "1                0         0.964453           3                0.0  medium   \n",
       "2                0         0.756458           3                0.0     low   \n",
       "3                0         0.608282           5                0.0  medium   \n",
       "4                0         0.749206           4                0.0  medium   \n",
       "\n",
       "   satisfaction    status  tenure  \n",
       "0      0.921208  Employed     4.0  \n",
       "1      0.568479  Employed     3.0  \n",
       "2      0.144812  Employed     6.0  \n",
       "3      0.210300  Employed     6.0  \n",
       "4      0.888514  Employed     3.0  "
      ]
     },
     "execution_count": 104,
     "metadata": {},
     "output_type": "execute_result"
    }
   ],
   "source": [
    "train_dataset.head()"
   ]
  },
  {
   "cell_type": "code",
   "execution_count": 112,
   "metadata": {},
   "outputs": [],
   "source": [
    "train_dataset.to_excel(\"employee_data.xlsx\") "
   ]
  },
  {
   "cell_type": "code",
   "execution_count": 23,
   "metadata": {},
   "outputs": [
    {
     "name": "stdout",
     "output_type": "stream",
     "text": [
      "<class 'pandas.core.frame.DataFrame'>\n",
      "RangeIndex: 14116 entries, 0 to 14115\n",
      "Data columns (total 14 columns):\n",
      "employee_id          14116 non-null int64\n",
      "age                  14116 non-null int64\n",
      "gender               14116 non-null object\n",
      "marital_status       14116 non-null object\n",
      "avg_monthly_hrs      14116 non-null float64\n",
      "department           14116 non-null object\n",
      "filed_complaint      14116 non-null int64\n",
      "last_evaluation      14116 non-null float64\n",
      "n_projects           14116 non-null int64\n",
      "recently_promoted    14116 non-null float64\n",
      "salary               14116 non-null object\n",
      "satisfaction         14116 non-null float64\n",
      "status               14116 non-null object\n",
      "tenure               14116 non-null float64\n",
      "dtypes: float64(5), int64(4), object(5)\n",
      "memory usage: 1.5+ MB\n"
     ]
    }
   ],
   "source": [
    "train_dataset.info()"
   ]
  },
  {
   "cell_type": "code",
   "execution_count": 113,
   "metadata": {},
   "outputs": [
    {
     "data": {
      "text/html": [
       "<div>\n",
       "<style scoped>\n",
       "    .dataframe tbody tr th:only-of-type {\n",
       "        vertical-align: middle;\n",
       "    }\n",
       "\n",
       "    .dataframe tbody tr th {\n",
       "        vertical-align: top;\n",
       "    }\n",
       "\n",
       "    .dataframe thead th {\n",
       "        text-align: right;\n",
       "    }\n",
       "</style>\n",
       "<table border=\"1\" class=\"dataframe\">\n",
       "  <thead>\n",
       "    <tr style=\"text-align: right;\">\n",
       "      <th></th>\n",
       "      <th>employee_id</th>\n",
       "      <th>age</th>\n",
       "      <th>avg_monthly_hrs</th>\n",
       "      <th>filed_complaint</th>\n",
       "      <th>last_evaluation</th>\n",
       "      <th>n_projects</th>\n",
       "      <th>recently_promoted</th>\n",
       "      <th>satisfaction</th>\n",
       "      <th>tenure</th>\n",
       "    </tr>\n",
       "  </thead>\n",
       "  <tbody>\n",
       "    <tr>\n",
       "      <th>count</th>\n",
       "      <td>14116.000000</td>\n",
       "      <td>14116.000000</td>\n",
       "      <td>14116.000000</td>\n",
       "      <td>14116.000000</td>\n",
       "      <td>14116.000000</td>\n",
       "      <td>14116.000000</td>\n",
       "      <td>14116.000000</td>\n",
       "      <td>14116.000000</td>\n",
       "      <td>14116.000000</td>\n",
       "    </tr>\n",
       "    <tr>\n",
       "      <th>mean</th>\n",
       "      <td>112120.657764</td>\n",
       "      <td>32.896005</td>\n",
       "      <td>199.992632</td>\n",
       "      <td>0.144588</td>\n",
       "      <td>0.642653</td>\n",
       "      <td>3.777770</td>\n",
       "      <td>0.021040</td>\n",
       "      <td>0.614719</td>\n",
       "      <td>3.460541</td>\n",
       "    </tr>\n",
       "    <tr>\n",
       "      <th>std</th>\n",
       "      <td>8497.639403</td>\n",
       "      <td>9.975000</td>\n",
       "      <td>50.826952</td>\n",
       "      <td>0.351697</td>\n",
       "      <td>0.274645</td>\n",
       "      <td>1.249693</td>\n",
       "      <td>0.143523</td>\n",
       "      <td>0.257143</td>\n",
       "      <td>1.496271</td>\n",
       "    </tr>\n",
       "    <tr>\n",
       "      <th>min</th>\n",
       "      <td>100101.000000</td>\n",
       "      <td>22.000000</td>\n",
       "      <td>49.000000</td>\n",
       "      <td>0.000000</td>\n",
       "      <td>0.000000</td>\n",
       "      <td>1.000000</td>\n",
       "      <td>0.000000</td>\n",
       "      <td>0.000000</td>\n",
       "      <td>0.000000</td>\n",
       "    </tr>\n",
       "    <tr>\n",
       "      <th>25%</th>\n",
       "      <td>105773.500000</td>\n",
       "      <td>24.000000</td>\n",
       "      <td>155.000000</td>\n",
       "      <td>0.000000</td>\n",
       "      <td>0.522018</td>\n",
       "      <td>3.000000</td>\n",
       "      <td>0.000000</td>\n",
       "      <td>0.442808</td>\n",
       "      <td>3.000000</td>\n",
       "    </tr>\n",
       "    <tr>\n",
       "      <th>50%</th>\n",
       "      <td>111293.500000</td>\n",
       "      <td>29.000000</td>\n",
       "      <td>199.000000</td>\n",
       "      <td>0.000000</td>\n",
       "      <td>0.683402</td>\n",
       "      <td>4.000000</td>\n",
       "      <td>0.000000</td>\n",
       "      <td>0.648350</td>\n",
       "      <td>3.000000</td>\n",
       "    </tr>\n",
       "    <tr>\n",
       "      <th>75%</th>\n",
       "      <td>116655.250000</td>\n",
       "      <td>41.000000</td>\n",
       "      <td>245.000000</td>\n",
       "      <td>0.000000</td>\n",
       "      <td>0.856854</td>\n",
       "      <td>5.000000</td>\n",
       "      <td>0.000000</td>\n",
       "      <td>0.822960</td>\n",
       "      <td>4.000000</td>\n",
       "    </tr>\n",
       "    <tr>\n",
       "      <th>max</th>\n",
       "      <td>148988.000000</td>\n",
       "      <td>57.000000</td>\n",
       "      <td>310.000000</td>\n",
       "      <td>1.000000</td>\n",
       "      <td>1.000000</td>\n",
       "      <td>7.000000</td>\n",
       "      <td>1.000000</td>\n",
       "      <td>1.000000</td>\n",
       "      <td>10.000000</td>\n",
       "    </tr>\n",
       "  </tbody>\n",
       "</table>\n",
       "</div>"
      ],
      "text/plain": [
       "         employee_id           age  avg_monthly_hrs  filed_complaint  \\\n",
       "count   14116.000000  14116.000000     14116.000000     14116.000000   \n",
       "mean   112120.657764     32.896005       199.992632         0.144588   \n",
       "std      8497.639403      9.975000        50.826952         0.351697   \n",
       "min    100101.000000     22.000000        49.000000         0.000000   \n",
       "25%    105773.500000     24.000000       155.000000         0.000000   \n",
       "50%    111293.500000     29.000000       199.000000         0.000000   \n",
       "75%    116655.250000     41.000000       245.000000         0.000000   \n",
       "max    148988.000000     57.000000       310.000000         1.000000   \n",
       "\n",
       "       last_evaluation    n_projects  recently_promoted  satisfaction  \\\n",
       "count     14116.000000  14116.000000       14116.000000  14116.000000   \n",
       "mean          0.642653      3.777770           0.021040      0.614719   \n",
       "std           0.274645      1.249693           0.143523      0.257143   \n",
       "min           0.000000      1.000000           0.000000      0.000000   \n",
       "25%           0.522018      3.000000           0.000000      0.442808   \n",
       "50%           0.683402      4.000000           0.000000      0.648350   \n",
       "75%           0.856854      5.000000           0.000000      0.822960   \n",
       "max           1.000000      7.000000           1.000000      1.000000   \n",
       "\n",
       "             tenure  \n",
       "count  14116.000000  \n",
       "mean       3.460541  \n",
       "std        1.496271  \n",
       "min        0.000000  \n",
       "25%        3.000000  \n",
       "50%        3.000000  \n",
       "75%        4.000000  \n",
       "max       10.000000  "
      ]
     },
     "execution_count": 113,
     "metadata": {},
     "output_type": "execute_result"
    }
   ],
   "source": [
    "train_dataset.describe()"
   ]
  },
  {
   "cell_type": "markdown",
   "metadata": {},
   "source": []
  },
  {
   "cell_type": "code",
   "execution_count": 185,
   "metadata": {},
   "outputs": [
    {
     "data": {
      "text/plain": [
       "Index(['employee_id', 'age', 'gender', 'marital_status', 'avg_monthly_hrs',\n",
       "       'department', 'filed_complaint', 'last_evaluation', 'n_projects',\n",
       "       'recently_promoted', 'salary', 'satisfaction', 'status', 'tenure'],\n",
       "      dtype='object')"
      ]
     },
     "execution_count": 185,
     "metadata": {},
     "output_type": "execute_result"
    }
   ],
   "source": [
    "train_dataset.columns"
   ]
  },
  {
   "cell_type": "code",
   "execution_count": 21,
   "metadata": {},
   "outputs": [
    {
     "data": {
      "text/plain": [
       "Unmarried    7211\n",
       "Married      6905\n",
       "Name: marital_status, dtype: int64"
      ]
     },
     "execution_count": 21,
     "metadata": {},
     "output_type": "execute_result"
    }
   ],
   "source": [
    "train_dataset.marital_status.value_counts()"
   ]
  },
  {
   "cell_type": "code",
   "execution_count": 51,
   "metadata": {},
   "outputs": [
    {
     "data": {
      "text/plain": [
       "0    12075\n",
       "1     2041\n",
       "Name: filed_complaint, dtype: int64"
      ]
     },
     "execution_count": 51,
     "metadata": {},
     "output_type": "execute_result"
    }
   ],
   "source": [
    "gg[\"filed_complaint\"].value_counts()"
   ]
  },
  {
   "cell_type": "code",
   "execution_count": null,
   "metadata": {},
   "outputs": [],
   "source": []
  },
  {
   "cell_type": "markdown",
   "metadata": {},
   "source": [
    "# 3. EDA"
   ]
  },
  {
   "cell_type": "markdown",
   "metadata": {},
   "source": [
    "#### Distribution of Left and Employed numbers"
   ]
  },
  {
   "cell_type": "code",
   "execution_count": 186,
   "metadata": {},
   "outputs": [
    {
     "data": {
      "text/plain": [
       "Text(0.5, 1.0, 'Pie chart showing the proportion of employees who have left the organisation')"
      ]
     },
     "execution_count": 186,
     "metadata": {},
     "output_type": "execute_result"
    },
    {
     "data": {
      "image/png": "[encoded data removed]",
      "text/plain": [
       "<Figure size 504x504 with 1 Axes>"
      ]
     },
     "metadata": {},
     "output_type": "display_data"
    }
   ],
   "source": [
    "train_dataset['status'].value_counts().plot(kind='pie',  explode = [0, 0.09], fontsize=14, autopct='%3.1f%%', \n",
    "                                               figsize=(7,7), shadow=True, startangle=135, legend=True, cmap='summer')\n",
    "plt.title('Pie chart showing the proportion of employees who have left the organisation')"
   ]
  },
  {
   "cell_type": "markdown",
   "metadata": {},
   "source": [
    "**Observations** : 23.8% of the employees have left and 76.2% of the employees are still employed with the company"
   ]
  },
  {
   "cell_type": "code",
   "execution_count": 188,
   "metadata": {},
   "outputs": [
    {
     "name": "stdout",
     "output_type": "stream",
     "text": [
      "['filed_complaint', 'gender', 'salary', 'recently_promoted', 'marital_status', 'department']\n"
     ]
    },
    {
     "data": {
      "image/png": "[encoded data removed]",
      "text/plain": [
       "<Figure size 1080x1080 with 6 Axes>"
      ]
     },
     "metadata": {},
     "output_type": "display_data"
    }
   ],
   "source": [
    "cont = ['satisfaction', 'avg_monthly_hrs', 'n_projects', 'tenure', 'age', 'last_evaluation']\n",
    "cats = list(set(train_dataset.columns)-set(cont))\n",
    "cats.remove('employee_id')\n",
    "cats.remove('status')\n",
    "print(cats)\n",
    "fig, axes = plt.subplots(3, 2, figsize=(15, 15))\n",
    "axes = [ax for axes_row in axes for ax in axes_row]\n",
    "\n",
    "for i, c in enumerate(train_dataset[cats]):\n",
    "    _ = train_dataset[c].value_counts()[::-1].plot(kind = 'pie', ax=axes[i], shadow = True, title=c, autopct='%.0f',cmap = \"Spectral\", fontsize=12, startangle = 30,wedgeprops=dict(width=0.15))\n",
    "    _ = axes[i].set_ylabel('')\n",
    "    \n",
    "_ = plt.tight_layout()\n"
   ]
  },
  {
   "cell_type": "code",
   "execution_count": 71,
   "metadata": {},
   "outputs": [
    {
     "data": {
      "image/png": "[encoded data removed]",
      "text/plain": [
       "<Figure size 1152x1152 with 2 Axes>"
      ]
     },
     "metadata": {
      "needs_background": "light"
     },
     "output_type": "display_data"
    }
   ],
   "source": [
    "fig, ax = plt.subplots(figsize=(16,16))\n",
    "sns.heatmap( train_dataset[['age', 'avg_monthly_hrs', 'filed_complaint', 'last_evaluation','n_projects','recently_promoted','satisfaction','tenure'] ].corr(), annot=True );"
   ]
  },
  {
   "cell_type": "markdown",
   "metadata": {},
   "source": [
    "#### How are married people who are working long hours coping in the company"
   ]
  },
  {
   "cell_type": "code",
   "execution_count": 267,
   "metadata": {},
   "outputs": [
    {
     "name": "stderr",
     "output_type": "stream",
     "text": [
      "/anaconda3/lib/python3.7/site-packages/seaborn/categorical.py:3666: UserWarning: The `factorplot` function has been renamed to `catplot`. The original name will be removed in a future release. Please update your code. Note that the default `kind` in `factorplot` (`'point'`) has changed `'strip'` in `catplot`.\n",
      "  warnings.warn(msg)\n"
     ]
    },
    {
     "data": {
      "text/plain": [
       "<seaborn.axisgrid.FacetGrid at 0x1a2ac73710>"
      ]
     },
     "execution_count": 267,
     "metadata": {},
     "output_type": "execute_result"
    },
    {
     "data": {
      "image/png": "[encoded data removed]",
      "text/plain": [
       "<Figure size 800.5x360 with 2 Axes>"
      ]
     },
     "metadata": {},
     "output_type": "display_data"
    }
   ],
   "source": [
    "sns.factorplot(y ='marital_status', x= 'avg_monthly_hrs',kind = 'violin', col = 'gender', \n",
    "               hue= 'status',data = train_dataset, palette= 'RdBu', split = True)"
   ]
  },
  {
   "cell_type": "markdown",
   "metadata": {},
   "source": [
    "**Observations**: Interestingly, most of the married people who have left the company have been working longer hours compared to married people who are still employed. Contrary to married people, Unmarried people who have left the company are interestingly working less than unmarried people who have stayed with the company. "
   ]
  },
  {
   "cell_type": "code",
   "execution_count": null,
   "metadata": {},
   "outputs": [],
   "source": []
  },
  {
   "cell_type": "markdown",
   "metadata": {},
   "source": [
    "#### Recently promoted vs average monthly working hours"
   ]
  },
  {
   "cell_type": "code",
   "execution_count": 189,
   "metadata": {},
   "outputs": [
    {
     "name": "stderr",
     "output_type": "stream",
     "text": [
      "/anaconda3/lib/python3.7/site-packages/seaborn/categorical.py:3666: UserWarning: The `factorplot` function has been renamed to `catplot`. The original name will be removed in a future release. Please update your code. Note that the default `kind` in `factorplot` (`'point'`) has changed `'strip'` in `catplot`.\n",
      "  warnings.warn(msg)\n"
     ]
    },
    {
     "data": {
      "text/plain": [
       "<seaborn.axisgrid.FacetGrid at 0x1a2876ea90>"
      ]
     },
     "execution_count": 189,
     "metadata": {},
     "output_type": "execute_result"
    },
    {
     "data": {
      "image/png": "[encoded data removed]",
      "text/plain": [
       "<Figure size 800.5x360 with 2 Axes>"
      ]
     },
     "metadata": {},
     "output_type": "display_data"
    }
   ],
   "source": [
    "sns.factorplot(x ='recently_promoted', y= 'avg_monthly_hrs',kind = 'violin', col='gender',\n",
    "               hue= 'status',data = train_dataset, palette='Set3', split = True)"
   ]
  },
  {
   "cell_type": "markdown",
   "metadata": {},
   "source": [
    "** Observations** : When we see how many hours an employees who is promoted working, we notice that a promoted employee if he has intention to leave, reduces his working hours."
   ]
  },
  {
   "cell_type": "markdown",
   "metadata": {},
   "source": [
    "#### How are married and unmarried employees doing in the company"
   ]
  },
  {
   "cell_type": "code",
   "execution_count": 88,
   "metadata": {},
   "outputs": [
    {
     "data": {
      "image/png": "[encoded data removed]",
      "text/plain": [
       "<Figure size 805.375x360 with 2 Axes>"
      ]
     },
     "metadata": {
      "needs_background": "light"
     },
     "output_type": "display_data"
    }
   ],
   "source": [
    "g = sns.catplot(x ='marital_status', \n",
    "               hue= 'status',kind = 'count', col = 'gender', data = train_dataset, palette=\"Set1\")\n",
    "total = len(train_dataset['marital_status'])\n",
    "for ax in g.axes.ravel():\n",
    "  for p in ax.patches:\n",
    "    ax.annotate(format(p.get_height(), '.2f'), (p.get_x() + p.get_width() / 2., p.get_height()), ha = 'center', va = 'center', xytext = (0, 10), textcoords = 'offset points')"
   ]
  },
  {
   "cell_type": "markdown",
   "metadata": {},
   "source": [
    "**Observations**: for around 3.7k male employees (either married or not), 900+ employees are quitting. That is around 25% of employees. when we consider Female employees, for 1726 married female employees 471 have left which makes 27%. where as 1024 unmarried female employees our of 1608, ie., 63% of unmarried female employees have left the company. "
   ]
  },
  {
   "cell_type": "markdown",
   "metadata": {},
   "source": [
    "# 3. Preprocessing"
   ]
  },
  {
   "cell_type": "code",
   "execution_count": 268,
   "metadata": {},
   "outputs": [],
   "source": [
    "train_dataset = pd.get_dummies(train_dataset, columns=[\"gender\",\"marital_status\",\"status\",\"salary\",\"department\"], drop_first=True)"
   ]
  },
  {
   "cell_type": "markdown",
   "metadata": {},
   "source": [
    "#### dropping employee_id column"
   ]
  },
  {
   "cell_type": "code",
   "execution_count": 269,
   "metadata": {},
   "outputs": [],
   "source": [
    "dropColumns = ['employee_id']\n",
    "train_dataset = train_dataset.drop(dropColumns,axis=1)"
   ]
  },
  {
   "cell_type": "code",
   "execution_count": 220,
   "metadata": {},
   "outputs": [
    {
     "data": {
      "text/html": [
       "<div>\n",
       "<style scoped>\n",
       "    .dataframe tbody tr th:only-of-type {\n",
       "        vertical-align: middle;\n",
       "    }\n",
       "\n",
       "    .dataframe tbody tr th {\n",
       "        vertical-align: top;\n",
       "    }\n",
       "\n",
       "    .dataframe thead th {\n",
       "        text-align: right;\n",
       "    }\n",
       "</style>\n",
       "<table border=\"1\" class=\"dataframe\">\n",
       "  <thead>\n",
       "    <tr style=\"text-align: right;\">\n",
       "      <th></th>\n",
       "      <th>age</th>\n",
       "      <th>avg_monthly_hrs</th>\n",
       "      <th>filed_complaint</th>\n",
       "      <th>last_evaluation</th>\n",
       "      <th>n_projects</th>\n",
       "      <th>recently_promoted</th>\n",
       "      <th>satisfaction</th>\n",
       "      <th>tenure</th>\n",
       "      <th>gender_Male</th>\n",
       "      <th>marital_status_Unmarried</th>\n",
       "      <th>...</th>\n",
       "      <th>department_D00-ENG</th>\n",
       "      <th>department_D00-FN</th>\n",
       "      <th>department_D00-IT</th>\n",
       "      <th>department_D00-MN</th>\n",
       "      <th>department_D00-MT</th>\n",
       "      <th>department_D00-PD</th>\n",
       "      <th>department_D00-PR</th>\n",
       "      <th>department_D00-SP</th>\n",
       "      <th>department_D00-SS</th>\n",
       "      <th>department_D00-TP</th>\n",
       "    </tr>\n",
       "  </thead>\n",
       "  <tbody>\n",
       "    <tr>\n",
       "      <th>0</th>\n",
       "      <td>43</td>\n",
       "      <td>111.0</td>\n",
       "      <td>0</td>\n",
       "      <td>0.753977</td>\n",
       "      <td>5</td>\n",
       "      <td>1.0</td>\n",
       "      <td>0.921208</td>\n",
       "      <td>4.0</td>\n",
       "      <td>1</td>\n",
       "      <td>0</td>\n",
       "      <td>...</td>\n",
       "      <td>0</td>\n",
       "      <td>0</td>\n",
       "      <td>0</td>\n",
       "      <td>0</td>\n",
       "      <td>0</td>\n",
       "      <td>0</td>\n",
       "      <td>1</td>\n",
       "      <td>0</td>\n",
       "      <td>0</td>\n",
       "      <td>0</td>\n",
       "    </tr>\n",
       "    <tr>\n",
       "      <th>1</th>\n",
       "      <td>24</td>\n",
       "      <td>201.0</td>\n",
       "      <td>0</td>\n",
       "      <td>0.964453</td>\n",
       "      <td>3</td>\n",
       "      <td>0.0</td>\n",
       "      <td>0.568479</td>\n",
       "      <td>3.0</td>\n",
       "      <td>0</td>\n",
       "      <td>1</td>\n",
       "      <td>...</td>\n",
       "      <td>0</td>\n",
       "      <td>0</td>\n",
       "      <td>0</td>\n",
       "      <td>1</td>\n",
       "      <td>0</td>\n",
       "      <td>0</td>\n",
       "      <td>0</td>\n",
       "      <td>0</td>\n",
       "      <td>0</td>\n",
       "      <td>0</td>\n",
       "    </tr>\n",
       "    <tr>\n",
       "      <th>2</th>\n",
       "      <td>22</td>\n",
       "      <td>239.0</td>\n",
       "      <td>0</td>\n",
       "      <td>0.756458</td>\n",
       "      <td>3</td>\n",
       "      <td>0.0</td>\n",
       "      <td>0.144812</td>\n",
       "      <td>6.0</td>\n",
       "      <td>0</td>\n",
       "      <td>1</td>\n",
       "      <td>...</td>\n",
       "      <td>0</td>\n",
       "      <td>0</td>\n",
       "      <td>0</td>\n",
       "      <td>0</td>\n",
       "      <td>0</td>\n",
       "      <td>0</td>\n",
       "      <td>0</td>\n",
       "      <td>0</td>\n",
       "      <td>1</td>\n",
       "      <td>0</td>\n",
       "    </tr>\n",
       "    <tr>\n",
       "      <th>3</th>\n",
       "      <td>36</td>\n",
       "      <td>151.0</td>\n",
       "      <td>0</td>\n",
       "      <td>0.608282</td>\n",
       "      <td>5</td>\n",
       "      <td>0.0</td>\n",
       "      <td>0.210300</td>\n",
       "      <td>6.0</td>\n",
       "      <td>1</td>\n",
       "      <td>0</td>\n",
       "      <td>...</td>\n",
       "      <td>0</td>\n",
       "      <td>0</td>\n",
       "      <td>0</td>\n",
       "      <td>0</td>\n",
       "      <td>0</td>\n",
       "      <td>0</td>\n",
       "      <td>1</td>\n",
       "      <td>0</td>\n",
       "      <td>0</td>\n",
       "      <td>0</td>\n",
       "    </tr>\n",
       "    <tr>\n",
       "      <th>4</th>\n",
       "      <td>38</td>\n",
       "      <td>259.0</td>\n",
       "      <td>0</td>\n",
       "      <td>0.749206</td>\n",
       "      <td>4</td>\n",
       "      <td>0.0</td>\n",
       "      <td>0.888514</td>\n",
       "      <td>3.0</td>\n",
       "      <td>1</td>\n",
       "      <td>0</td>\n",
       "      <td>...</td>\n",
       "      <td>0</td>\n",
       "      <td>0</td>\n",
       "      <td>1</td>\n",
       "      <td>0</td>\n",
       "      <td>0</td>\n",
       "      <td>0</td>\n",
       "      <td>0</td>\n",
       "      <td>0</td>\n",
       "      <td>0</td>\n",
       "      <td>0</td>\n",
       "    </tr>\n",
       "  </tbody>\n",
       "</table>\n",
       "<p>5 rows × 23 columns</p>\n",
       "</div>"
      ],
      "text/plain": [
       "   age  avg_monthly_hrs  filed_complaint  last_evaluation  n_projects  \\\n",
       "0   43            111.0                0         0.753977           5   \n",
       "1   24            201.0                0         0.964453           3   \n",
       "2   22            239.0                0         0.756458           3   \n",
       "3   36            151.0                0         0.608282           5   \n",
       "4   38            259.0                0         0.749206           4   \n",
       "\n",
       "   recently_promoted  satisfaction  tenure  gender_Male  \\\n",
       "0                1.0      0.921208     4.0            1   \n",
       "1                0.0      0.568479     3.0            0   \n",
       "2                0.0      0.144812     6.0            0   \n",
       "3                0.0      0.210300     6.0            1   \n",
       "4                0.0      0.888514     3.0            1   \n",
       "\n",
       "   marital_status_Unmarried  ...  department_D00-ENG  department_D00-FN  \\\n",
       "0                         0  ...                   0                  0   \n",
       "1                         1  ...                   0                  0   \n",
       "2                         1  ...                   0                  0   \n",
       "3                         0  ...                   0                  0   \n",
       "4                         0  ...                   0                  0   \n",
       "\n",
       "   department_D00-IT  department_D00-MN  department_D00-MT  department_D00-PD  \\\n",
       "0                  0                  0                  0                  0   \n",
       "1                  0                  1                  0                  0   \n",
       "2                  0                  0                  0                  0   \n",
       "3                  0                  0                  0                  0   \n",
       "4                  1                  0                  0                  0   \n",
       "\n",
       "   department_D00-PR  department_D00-SP  department_D00-SS  department_D00-TP  \n",
       "0                  1                  0                  0                  0  \n",
       "1                  0                  0                  0                  0  \n",
       "2                  0                  0                  1                  0  \n",
       "3                  1                  0                  0                  0  \n",
       "4                  0                  0                  0                  0  \n",
       "\n",
       "[5 rows x 23 columns]"
      ]
     },
     "execution_count": 220,
     "metadata": {},
     "output_type": "execute_result"
    }
   ],
   "source": [
    "train_dataset.head()"
   ]
  },
  {
   "cell_type": "code",
   "execution_count": 221,
   "metadata": {},
   "outputs": [
    {
     "data": {
      "text/plain": [
       "Index(['age', 'avg_monthly_hrs', 'filed_complaint', 'last_evaluation',\n",
       "       'n_projects', 'recently_promoted', 'satisfaction', 'tenure',\n",
       "       'gender_Male', 'marital_status_Unmarried', 'status_Left', 'salary_low',\n",
       "       'salary_medium', 'department_D00-ENG', 'department_D00-FN',\n",
       "       'department_D00-IT', 'department_D00-MN', 'department_D00-MT',\n",
       "       'department_D00-PD', 'department_D00-PR', 'department_D00-SP',\n",
       "       'department_D00-SS', 'department_D00-TP'],\n",
       "      dtype='object')"
      ]
     },
     "execution_count": 221,
     "metadata": {},
     "output_type": "execute_result"
    }
   ],
   "source": [
    "train_dataset.columns"
   ]
  },
  {
   "cell_type": "code",
   "execution_count": 270,
   "metadata": {},
   "outputs": [],
   "source": [
    "train_dataset= train_dataset.rename(columns={\"status_Left\": \"status\"}, errors=\"raise\")"
   ]
  },
  {
   "cell_type": "markdown",
   "metadata": {},
   "source": [
    "### Finding the importance of the parameters"
   ]
  },
  {
   "cell_type": "code",
   "execution_count": 271,
   "metadata": {},
   "outputs": [],
   "source": [
    "status = train_dataset.pop('status')\n"
   ]
  },
  {
   "cell_type": "code",
   "execution_count": 272,
   "metadata": {},
   "outputs": [
    {
     "name": "stderr",
     "output_type": "stream",
     "text": [
      "/anaconda3/lib/python3.7/site-packages/statsmodels/discrete/discrete_model.py:1789: RuntimeWarning: divide by zero encountered in log\n",
      "  return np.sum(np.log(self.cdf(q*np.dot(X,params))))\n"
     ]
    },
    {
     "name": "stdout",
     "output_type": "stream",
     "text": [
      "Optimization terminated successfully.\n",
      "         Current function value: inf\n",
      "         Iterations 7\n"
     ]
    },
    {
     "name": "stderr",
     "output_type": "stream",
     "text": [
      "/anaconda3/lib/python3.7/site-packages/statsmodels/base/model.py:492: HessianInversionWarning: Inverting hessian failed, no bse or cov_params available\n",
      "  'available', HessianInversionWarning)\n"
     ]
    },
    {
     "name": "stdout",
     "output_type": "stream",
     "text": [
      "                             Results: Logit\n",
      "=========================================================================\n",
      "Model:                  Logit                Pseudo R-squared:     inf   \n",
      "Dependent Variable:     status               AIC:                  inf   \n",
      "Date:                   2020-11-28 18:58     BIC:                  inf   \n",
      "No. Observations:       14116                Log-Likelihood:       -inf  \n",
      "Df Model:               21                   LL-Null:              0.0000\n",
      "Df Residuals:           14094                LLR p-value:          1.0000\n",
      "Converged:              1.0000               Scale:                1.0000\n",
      "No. Iterations:         7.0000                                           \n",
      "-------------------------------------------------------------------------\n",
      "                          Coef.  Std.Err.    z     P>|z|   [0.025  0.975]\n",
      "-------------------------------------------------------------------------\n",
      "age                      -0.0020   0.0037  -0.5401 0.5892 -0.0093  0.0053\n",
      "avg_monthly_hrs           0.0032   0.0005   5.9675 0.0000  0.0021  0.0042\n",
      "filed_complaint          -1.6039   0.0946 -16.9547 0.0000 -1.7893 -1.4185\n",
      "last_evaluation           0.5328   0.1036   5.1415 0.0000  0.3297  0.7359\n",
      "n_projects               -0.1565   0.0294  -5.3140 0.0000 -0.2142 -0.0988\n",
      "recently_promoted        -1.4095   0.2650  -5.3178 0.0000 -1.9289 -0.8900\n",
      "satisfaction             -4.2212   0.0989 -42.6896 0.0000 -4.4150 -4.0274\n",
      "tenure                    0.2325   0.0164  14.1366 0.0000  0.2002  0.2647\n",
      "gender_Male              -0.6311   0.0481 -13.1315 0.0000 -0.7253 -0.5369\n",
      "marital_status_Unmarried  0.5238   0.0801   6.5384 0.0000  0.3668  0.6808\n",
      "salary_low                1.4474   0.1108  13.0625 0.0000  1.2302  1.6645\n",
      "salary_medium             0.9303   0.1122   8.2879 0.0000  0.7103  1.1502\n",
      "department_D00-ENG       -0.7304   0.1577  -4.6328 0.0000 -1.0394 -0.4214\n",
      "department_D00-FN        -0.8165   0.1778  -4.5933 0.0000 -1.1649 -0.4681\n",
      "department_D00-IT        -0.9869   0.1667  -5.9209 0.0000 -1.3136 -0.6602\n",
      "department_D00-MN        -1.2696   0.1975  -6.4296 0.0000 -1.6566 -0.8826\n",
      "department_D00-MT        -0.7595   0.1757  -4.3230 0.0000 -1.1039 -0.4152\n",
      "department_D00-PD        -0.9326   0.1753  -5.3189 0.0000 -1.2762 -0.5889\n",
      "department_D00-PR        -2.0300   0.3216  -6.3130 0.0000 -2.6602 -1.3998\n",
      "department_D00-SP        -0.7476   0.1599  -4.6753 0.0000 -1.0610 -0.4342\n",
      "department_D00-SS        -0.7962   0.1539  -5.1725 0.0000 -1.0978 -0.4945\n",
      "department_D00-TP        -2.9344   0.2895 -10.1358 0.0000 -3.5019 -2.3670\n",
      "=========================================================================\n",
      "\n"
     ]
    },
    {
     "name": "stderr",
     "output_type": "stream",
     "text": [
      "/anaconda3/lib/python3.7/site-packages/statsmodels/base/model.py:492: HessianInversionWarning: Inverting hessian failed, no bse or cov_params available\n",
      "  'available', HessianInversionWarning)\n"
     ]
    }
   ],
   "source": [
    "import statsmodels.api as sm\n",
    "logit_model=sm.Logit(status,train_dataset)\n",
    "result=logit_model.fit()\n",
    "print(result.summary2())\n"
   ]
  },
  {
   "cell_type": "markdown",
   "metadata": {},
   "source": [
    "**Observations**: satisfaction is the most effective parameter. Followed by filed_complaints, gender and salary"
   ]
  },
  {
   "cell_type": "code",
   "execution_count": 242,
   "metadata": {},
   "outputs": [
    {
     "name": "stdout",
     "output_type": "stream",
     "text": [
      "                     feature       VIF\n",
      "0            filed_complaint  1.174592\n",
      "1            last_evaluation  6.637990\n",
      "2          recently_promoted  1.060256\n",
      "3               satisfaction  5.909205\n",
      "4                     tenure  6.250151\n",
      "5                gender_Male  2.772768\n",
      "6   marital_status_Unmarried  1.999571\n",
      "7                 salary_low  4.884925\n",
      "8              salary_medium  4.544650\n",
      "9         department_D00-ENG  1.489468\n",
      "10         department_D00-FN  1.135838\n",
      "11         department_D00-IT  1.262550\n",
      "12         department_D00-MN  1.164891\n",
      "13         department_D00-MT  1.157834\n",
      "14         department_D00-PD  1.164817\n",
      "15         department_D00-PR  1.034315\n",
      "16         department_D00-SP  1.408317\n",
      "17         department_D00-TP  1.114926\n"
     ]
    }
   ],
   "source": [
    "from statsmodels.stats.outliers_influence import variance_inflation_factor\n",
    "\n",
    "train_dataset.pop('age')\n",
    "vif_data= pd.DataFrame()\n",
    "\n",
    "\n",
    "vif_data['feature'] = train_dataset.columns\n",
    "vif_data[\"VIF\"]  = [variance_inflation_factor(train_dataset.values, i) for i in range(len(train_dataset.columns))]\n",
    "print(vif_data)"
   ]
  },
  {
   "cell_type": "markdown",
   "metadata": {},
   "source": [
    "### Using StandardScaler to standardize the data"
   ]
  },
  {
   "cell_type": "code",
   "execution_count": 273,
   "metadata": {},
   "outputs": [
    {
     "name": "stdout",
     "output_type": "stream",
     "text": [
      "After standardizing our features, the first 5 rows of our data now look like this:\n",
      "\n",
      "        age  avg_monthly_hrs  filed_complaint  last_evaluation  n_projects  \\\n",
      "0  1.012968        -1.750957        -0.411129         0.405352    0.978059   \n",
      "1 -0.891862         0.019820        -0.411129         1.171735   -0.622391   \n",
      "2 -1.092370         0.767482        -0.411129         0.414386   -0.622391   \n",
      "3  0.311189        -0.963945        -0.411129        -0.125152    0.978059   \n",
      "4  0.511697         1.160988        -0.411129         0.387980    0.177834   \n",
      "\n",
      "   recently_promoted  satisfaction    tenure  gender_Male  \\\n",
      "0           6.821189      1.191940  0.360548     0.721092   \n",
      "1          -0.146602     -0.179830 -0.307804    -1.386785   \n",
      "2          -0.146602     -1.827480  1.697252    -1.386785   \n",
      "3          -0.146602     -1.572795  1.697252     0.721092   \n",
      "4          -0.146602      1.064793 -0.307804     0.721092   \n",
      "\n",
      "   marital_status_Unmarried  ...  department_D00-ENG  department_D00-FN  \\\n",
      "0                 -1.021918  ...           -0.472129          -0.232174   \n",
      "1                  0.978552  ...           -0.472129          -0.232174   \n",
      "2                  0.978552  ...           -0.472129          -0.232174   \n",
      "3                 -1.021918  ...           -0.472129          -0.232174   \n",
      "4                 -1.021918  ...           -0.472129          -0.232174   \n",
      "\n",
      "   department_D00-IT  department_D00-MN  department_D00-MT  department_D00-PD  \\\n",
      "0          -0.326389          -0.208853          -0.247051          -0.253603   \n",
      "1          -0.326389           4.788050          -0.247051          -0.253603   \n",
      "2          -0.326389          -0.208853          -0.247051          -0.253603   \n",
      "3          -0.326389          -0.208853          -0.247051          -0.253603   \n",
      "4           3.063829          -0.208853          -0.247051          -0.253603   \n",
      "\n",
      "   department_D00-PR  department_D00-SP  department_D00-SS  department_D00-TP  \n",
      "0           8.977493          -0.418986          -0.695379          -0.103636  \n",
      "1          -0.111390          -0.418986          -0.695379          -0.103636  \n",
      "2          -0.111390          -0.418986           1.438064          -0.103636  \n",
      "3           8.977493          -0.418986          -0.695379          -0.103636  \n",
      "4          -0.111390          -0.418986          -0.695379          -0.103636  \n",
      "\n",
      "[5 rows x 22 columns]\n",
      "<class 'numpy.ndarray'>\n"
     ]
    }
   ],
   "source": [
    "from sklearn.preprocessing import StandardScaler\n",
    "sc = StandardScaler()\n",
    "\n",
    "sc.fit(train_dataset)                                                                                   # fit the data to Standardscaler\n",
    "train_dataset_scale = sc.transform(train_dataset)                                                               # transform the data\n",
    "\n",
    "print('After standardizing our features, the first 5 rows of our data now look like this:\\n')   # print the first 5 value after standardization\n",
    "print(pd.DataFrame(train_dataset_scale, columns=train_dataset.columns).head())                                  # Put it to dataframe                              \n",
    "print(type(train_dataset_scale))"
   ]
  },
  {
   "cell_type": "markdown",
   "metadata": {},
   "source": [
    "## Train-Test split"
   ]
  },
  {
   "cell_type": "code",
   "execution_count": 274,
   "metadata": {},
   "outputs": [],
   "source": [
    "from sklearn.model_selection import train_test_split\n",
    "X_train, X_test, y_train, y_test = train_test_split(train_dataset_scale, status, test_size = 0.3, random_state = 42)"
   ]
  },
  {
   "cell_type": "code",
   "execution_count": 246,
   "metadata": {},
   "outputs": [
    {
     "name": "stdout",
     "output_type": "stream",
     "text": [
      "(9881, 18)\n",
      "(4235, 18)\n",
      "(9881,)\n",
      "(4235,)\n"
     ]
    }
   ],
   "source": [
    "print(X_train.shape)\n",
    "print(X_test.shape)\n",
    "print(y_train.shape)\n",
    "print(y_test.shape)"
   ]
  },
  {
   "cell_type": "markdown",
   "metadata": {},
   "source": [
    "## 6. User defined functions:\n",
    "\n",
    "#### Defining user defined functions to reuse them with each algorithm"
   ]
  },
  {
   "cell_type": "markdown",
   "metadata": {},
   "source": [
    "<a id=section601></a>\n",
    "#### 6.1 User defined function to fit and predict the model"
   ]
  },
  {
   "cell_type": "code",
   "execution_count": 275,
   "metadata": {},
   "outputs": [],
   "source": [
    "#Function for prediction\n",
    "\n",
    "def get_predictions(clf, X_train, y_train, X_test, y_test):\n",
    "    # fit it to training data\n",
    "    clf.fit(X_train,y_train)\n",
    "    # predict using test data\n",
    "    y_pred = clf.predict(X_test)\n",
    "    # Compute predicted probabilities: y_pred_prob\n",
    "    y_pred_prob = clf.predict_proba(X_test)\n",
    "    \n",
    "   # print('train-set confusion matrix:\\n', confusion_matrix(y_test, y_pred)) \n",
    "    return y_pred, y_pred_prob"
   ]
  },
  {
   "cell_type": "markdown",
   "metadata": {},
   "source": [
    "<a id=section602></a>\n",
    "#### 6.2 User defined function to print the classifier score\n",
    "\n",
    "The function is returning accuracy_score as the goal of the analysis is just to predict the voice type and we are not interested in increasing precision or recall here. Also, since data is equally distributed, accuracy score works best and it is sufficient for us in the analysis. Though the function prints confusion matrix, recall score, precision score, f1 score, ROC AUC and also accuracy score, we are interested only in accuracy score for the project"
   ]
  },
  {
   "cell_type": "code",
   "execution_count": 276,
   "metadata": {},
   "outputs": [],
   "source": [
    "def print_scores(y_test,y_pred,y_pred_prob):\n",
    "    print('test-set confusion matrix:\\n', confusion_matrix(y_test,y_pred)) \n",
    "    print(\"recall score: \", recall_score(y_test,y_pred))\n",
    "    print(\"precision score: \", precision_score(y_test,y_pred))\n",
    "    print(\"f1 score: \", f1_score(y_test,y_pred))\n",
    "    print(\"accuracy score: \", accuracy_score(y_test,y_pred))\n",
    "    print(\"ROC AUC: {}\".format(roc_auc_score(y_test, y_pred_prob[:,1])))\n",
    "    return  accuracy_score(y_test,y_pred)"
   ]
  },
  {
   "cell_type": "markdown",
   "metadata": {},
   "source": [
    "<a id=section7></a>\n",
    "## 7. Modelling and prediction"
   ]
  },
  {
   "cell_type": "markdown",
   "metadata": {},
   "source": [
    "Applying various models to see which one gives a better result. We are trying:\n",
    "1. Gaussian Naive Bayees\n",
    "2. K-Nearest Classifier\n",
    "3. Logistic regression\n",
    "4. LDA"
   ]
  },
  {
   "cell_type": "markdown",
   "metadata": {},
   "source": [
    "<a id=section701></a>\n",
    "## 7.1 Gaussian Naive Bayes"
   ]
  },
  {
   "cell_type": "markdown",
   "metadata": {},
   "source": [
    "A naive Bayes classifier uses probability theory to classify data. Naive Bayes classifier algorithms make use of Bayes' theorem. The key insight of Bayes' theorem is that the probability of an event can be adjusted as new data is introduced."
   ]
  },
  {
   "cell_type": "code",
   "execution_count": 277,
   "metadata": {},
   "outputs": [],
   "source": [
    "y_pred_nb, y_pred_prob_nb = get_predictions(GaussianNB(), X_train, y_train, X_test, y_test)"
   ]
  },
  {
   "cell_type": "code",
   "execution_count": 278,
   "metadata": {},
   "outputs": [
    {
     "name": "stdout",
     "output_type": "stream",
     "text": [
      "test-set confusion matrix:\n",
      " [[1866 1388]\n",
      " [ 151  830]]\n",
      "recall score:  0.8460754332313966\n",
      "precision score:  0.3742110009017133\n",
      "f1 score:  0.5189121600500156\n",
      "accuracy score:  0.6365997638724912\n",
      "ROC AUC: 0.8258378146053442\n"
     ]
    },
    {
     "data": {
      "text/plain": [
       "0.6365997638724912"
      ]
     },
     "execution_count": 278,
     "metadata": {},
     "output_type": "execute_result"
    }
   ],
   "source": [
    "print_scores(y_test,y_pred_nb,y_pred_prob_nb)"
   ]
  },
  {
   "cell_type": "markdown",
   "metadata": {},
   "source": [
    "<a id=section702></a>\n",
    "## 7.2 KNearest Neighbour Classifier"
   ]
  },
  {
   "cell_type": "markdown",
   "metadata": {},
   "source": [
    "K-Nearest Neighbours is one of the most basic yet essential classification algorithms which belongs to the supervised learning domain. K-Nearest neighbour can be used as both regressor and for classification.\n",
    "\n",
    "When KNN is used for classification, the output can be calculated as the class with the highest frequency from the K-most similar instances. Each instance in essence votes for their class and the class with the most votes is taken as the prediction.\n",
    "\n",
    "it is a good idea to choose a K value with an odd number to avoid a tie. And the inverse, use an even number for K when you have an odd number of classes.\n",
    "\n",
    "KNN Algorithm is based on feature similarity: Choosing the right value of k is a process called parameter tuning, and is important for better accuracy. \n",
    "\n",
    "So in the below code We are checking the kNN for various value of K. K values range from 1 to 28 (28 being sqrt(792). Here 792 is the number of test data points."
   ]
  },
  {
   "cell_type": "markdown",
   "metadata": {},
   "source": [
    "### **7.2.1 Hyperparameter Tuning: Finding Optimal K**\n",
    "\n",
    "- We **will** **iterate** our model **over** **some** **iterations**, finding optimal K value for clustering.\n",
    "\n",
    "- We **check** **inertia**, defined as the mean squared distance between each instance and its closest centroid. Logically, as per the definition **lower** the **inertia** **better** the **model**.\n",
    "\n",
    "- We will **use** **Elbow** **rule** in order to **find** the **optimal** **number** of **clusters**."
   ]
  },
  {
   "cell_type": "code",
   "execution_count": 228,
   "metadata": {},
   "outputs": [
    {
     "data": {
      "text/plain": [
       "0    10761\n",
       "1     3355\n",
       "Name: status, dtype: int64"
      ]
     },
     "execution_count": 228,
     "metadata": {},
     "output_type": "execute_result"
    }
   ],
   "source": [
    "status.value_counts()"
   ]
  },
  {
   "cell_type": "code",
   "execution_count": 288,
   "metadata": {},
   "outputs": [
    {
     "name": "stdout",
     "output_type": "stream",
     "text": [
      "K= 1\n",
      "test-set confusion matrix:\n",
      " [[3087  167]\n",
      " [ 105  876]]\n",
      "recall score:  0.8929663608562691\n",
      "precision score:  0.8398849472674976\n",
      "f1 score:  0.865612648221344\n",
      "accuracy score:  0.9357733175914994\n",
      "ROC AUC: 0.9208224551669175\n",
      "K= 3\n",
      "test-set confusion matrix:\n",
      " [[3101  153]\n",
      " [ 130  851]]\n",
      "recall score:  0.8674821610601428\n",
      "precision score:  0.8476095617529881\n",
      "f1 score:  0.8574307304785895\n",
      "accuracy score:  0.9331759149940968\n",
      "ROC AUC: 0.947590106303729\n",
      "K= 5\n",
      "test-set confusion matrix:\n",
      " [[3094  160]\n",
      " [ 141  840]]\n",
      "recall score:  0.8562691131498471\n",
      "precision score:  0.84\n",
      "f1 score:  0.8480565371024734\n",
      "accuracy score:  0.9289256198347108\n",
      "ROC AUC: 0.9522726518040683\n",
      "K= 7\n",
      "test-set confusion matrix:\n",
      " [[3092  162]\n",
      " [ 140  841]]\n",
      "recall score:  0.8572884811416922\n",
      "precision score:  0.8384845463609173\n",
      "f1 score:  0.8477822580645161\n",
      "accuracy score:  0.928689492325856\n",
      "ROC AUC: 0.9538571518971084\n",
      "K= 9\n",
      "test-set confusion matrix:\n",
      " [[3093  161]\n",
      " [ 162  819]]\n",
      "recall score:  0.8348623853211009\n",
      "precision score:  0.8357142857142857\n",
      "f1 score:  0.8352881183069862\n",
      "accuracy score:  0.9237308146399056\n",
      "ROC AUC: 0.9523046049494795\n",
      "K= 11\n",
      "test-set confusion matrix:\n",
      " [[3079  175]\n",
      " [ 179  802]]\n",
      "recall score:  0.817533129459735\n",
      "precision score:  0.8208802456499488\n",
      "f1 score:  0.819203268641471\n",
      "accuracy score:  0.9164108618654073\n",
      "ROC AUC: 0.9508606047164094\n",
      "K= 13\n",
      "test-set confusion matrix:\n",
      " [[3075  179]\n",
      " [ 190  791]]\n",
      "recall score:  0.8063200815494393\n",
      "precision score:  0.8154639175257732\n",
      "f1 score:  0.8108662224500257\n",
      "accuracy score:  0.9128689492325855\n",
      "ROC AUC: 0.9488444238941862\n",
      "[0.9357733175914994, 0.9331759149940968, 0.9289256198347108, 0.928689492325856, 0.9237308146399056, 0.9164108618654073, 0.9128689492325855]\n"
     ]
    }
   ],
   "source": [
    "from sklearn.neighbors import KNeighborsClassifier\n",
    "from sklearn.model_selection import cross_val_score\n",
    "k_list = list(range(1,15,2))\n",
    "# creating list of cv scores\n",
    "cv_scores = []\n",
    "\n",
    "# perform 10-fold cross validation\n",
    "for k in k_list:\n",
    "    print(\"K=\",k)\n",
    "    knn = KNeighborsClassifier(n_neighbors=k)\n",
    "    y_pred_knn, y_pred_prob_knn = get_predictions(knn, X_train, y_train, X_test, y_test)\n",
    "    scores = print_scores(y_test,y_pred_knn,y_pred_prob_knn)\n",
    "    cv_scores.append(scores)\n",
    "print(cv_scores)\n",
    "#knn = KNeighborsClassifier(n_neighbors=7)\n",
    "#y_pred_knn, y_pred_prob_knn = get_predictions(knn, X_train, y_train, X_test, y_test)"
   ]
  },
  {
   "cell_type": "markdown",
   "metadata": {},
   "source": [
    "The accuracy_scores of different k values can be plotted to see which k value to chose"
   ]
  },
  {
   "cell_type": "code",
   "execution_count": 280,
   "metadata": {},
   "outputs": [
    {
     "data": {
      "text/plain": [
       "<Figure size 432x288 with 0 Axes>"
      ]
     },
     "metadata": {},
     "output_type": "display_data"
    },
    {
     "data": {
      "image/png": "[encoded data removed]",
      "text/plain": [
       "<Figure size 1080x720 with 1 Axes>"
      ]
     },
     "metadata": {},
     "output_type": "display_data"
    }
   ],
   "source": [
    "plt.figure()\n",
    "plt.figure(figsize=(15,10))\n",
    "plt.title('The optimal number of neighbors', fontsize=20, fontweight='bold')\n",
    "plt.xlabel('Number of Neighbors K', fontsize=15)\n",
    "plt.ylabel('Accuracy score', fontsize=15)\n",
    "sns.set_style(\"whitegrid\")\n",
    "plt.plot(k_list, cv_scores)\n",
    "\n",
    "plt.show()"
   ]
  },
  {
   "cell_type": "code",
   "execution_count": null,
   "metadata": {
    "scrolled": true
   },
   "outputs": [],
   "source": []
  },
  {
   "cell_type": "raw",
   "metadata": {},
   "source": [
    "**Observations**: Accuracy score is highest for k=3. We will use that value for our model"
   ]
  },
  {
   "cell_type": "markdown",
   "metadata": {},
   "source": [
    "<a id=section703></a>\n",
    "## 7.3 Using Logistic Regression"
   ]
  },
  {
   "cell_type": "markdown",
   "metadata": {},
   "source": [
    "Logistic regression is a supervised learning techinques which helps in classification problems.Logistic Regression is used when the dependent variable(target) is categorical. Sigmoid function or logistic function is used as hypothesis function for logistic regression."
   ]
  },
  {
   "cell_type": "code",
   "execution_count": 282,
   "metadata": {},
   "outputs": [],
   "source": [
    "# let us check recall score for logistic regression\n",
    "y_pred_lr, y_pred_prob_lr = get_predictions(LogisticRegression(C = 0.01, penalty = 'l1',solver='liblinear')\n",
    "                                      , X_train, y_train, X_test, y_test)"
   ]
  },
  {
   "cell_type": "code",
   "execution_count": 283,
   "metadata": {},
   "outputs": [
    {
     "name": "stdout",
     "output_type": "stream",
     "text": [
      "test-set confusion matrix:\n",
      " [[3067  187]\n",
      " [ 661  320]]\n",
      "recall score:  0.32619775739041795\n",
      "precision score:  0.631163708086785\n",
      "f1 score:  0.4301075268817205\n",
      "accuracy score:  0.7997638724911452\n",
      "ROC AUC: 0.8235729004747235\n"
     ]
    },
    {
     "data": {
      "text/plain": [
       "0.7997638724911452"
      ]
     },
     "execution_count": 283,
     "metadata": {},
     "output_type": "execute_result"
    }
   ],
   "source": [
    "print_scores(y_test,y_pred_lr,y_pred_prob_lr)"
   ]
  },
  {
   "cell_type": "markdown",
   "metadata": {},
   "source": [
    "<a id=section704></a>\n",
    "## 7.4 Using LDA:"
   ]
  },
  {
   "cell_type": "markdown",
   "metadata": {},
   "source": [
    "Linear Discriminant Analysis is a __dimensionality reduction__ technique used as a __preprocessing step__ in Machine Learning and __pattern classification applications__.\n",
    "\n",
    "Linear Discriminant Analysis is a __supervised classification technique__ which takes labels into consideration."
   ]
  },
  {
   "cell_type": "code",
   "execution_count": 284,
   "metadata": {},
   "outputs": [],
   "source": [
    "# let us check recall score for logistic regression\n",
    "from sklearn.discriminant_analysis import LinearDiscriminantAnalysis as LDA\n",
    "lda = LDA(n_components = 1)\n",
    "y_pred_lda, y_pred_prob_lda = get_predictions(lda, X_train, y_train, X_test, y_test)"
   ]
  },
  {
   "cell_type": "code",
   "execution_count": 285,
   "metadata": {},
   "outputs": [
    {
     "name": "stdout",
     "output_type": "stream",
     "text": [
      "test-set confusion matrix:\n",
      " [[3024  230]\n",
      " [ 603  378]]\n",
      "recall score:  0.3853211009174312\n",
      "precision score:  0.6217105263157895\n",
      "f1 score:  0.4757709251101322\n",
      "accuracy score:  0.8033057851239669\n",
      "ROC AUC: 0.8296674930627216\n"
     ]
    },
    {
     "data": {
      "text/plain": [
       "0.8033057851239669"
      ]
     },
     "execution_count": 285,
     "metadata": {},
     "output_type": "execute_result"
    }
   ],
   "source": [
    "print_scores(y_test,y_pred_lda,y_pred_prob_lda)"
   ]
  },
  {
   "cell_type": "code",
   "execution_count": null,
   "metadata": {},
   "outputs": [],
   "source": [
    "<a id=section704></a>\n",
    "## 7.4 Create Boosting Classifiers"
   ]
  },
  {
   "cell_type": "code",
   "execution_count": null,
   "metadata": {},
   "outputs": [],
   "source": []
  },
  {
   "cell_type": "code",
   "execution_count": 286,
   "metadata": {},
   "outputs": [
    {
     "data": {
      "text/plain": [
       "0.9288540992705419"
      ]
     },
     "execution_count": 286,
     "metadata": {},
     "output_type": "execute_result"
    }
   ],
   "source": [
    "from sklearn.ensemble import AdaBoostClassifier\n",
    "from sklearn.tree import DecisionTreeClassifier\n",
    "reg_ada = AdaBoostClassifier(DecisionTreeClassifier(max_depth=1))\n",
    "scores_ada = cross_val_score(reg_ada, X_train, y_train, cv=6)\n",
    "scores_ada.mean()"
   ]
  },
  {
   "cell_type": "code",
   "execution_count": 287,
   "metadata": {},
   "outputs": [
    {
     "name": "stdout",
     "output_type": "stream",
     "text": [
      "[0.9288540992705419, 0.9625546208320147, 0.9642749818453128, 0.9690312885241474, 0.971460131126884, 0.9734847506776808]\n"
     ]
    }
   ],
   "source": [
    "score = []\n",
    "for depth in [1,2,4,6,8,10] : \n",
    "    reg_ada = AdaBoostClassifier(DecisionTreeClassifier(max_depth=depth))\n",
    "    scores_ada = cross_val_score(reg_ada, X_train, y_train, cv=6)\n",
    "    score.append(scores_ada.mean())\n",
    "\n",
    "\n",
    "print(score)"
   ]
  },
  {
   "cell_type": "code",
   "execution_count": null,
   "metadata": {},
   "outputs": [],
   "source": [
    "**Observations** : And the maximal score is reached for a depth of 10 in this simple example, with an accuracy of 97.45%"
   ]
  },
  {
   "cell_type": "code",
   "execution_count": null,
   "metadata": {},
   "outputs": [],
   "source": [
    "<a id=\"section7\"></a>\n",
    "## 7. Model Comparison"
   ]
  },
  {
   "cell_type": "code",
   "execution_count": null,
   "metadata": {},
   "outputs": [],
   "source": [
    "| Algorithms                                                                                     | Accuracy Score                                                                               |\n",
    "| ------------------------------- |:-----------------------------------------------------------------------------------------:| \n",
    "| __Logistic Regression__ | __58.5%__ |\n",
    "| __Random Forest__ | __64.0%__ |\n",
    "| __Decision Tree Classifier__| __60.2%__| \n",
    "| __Bagging Classifier__ | __64.6%__ |\n",
    "| __Boosting Classifier__ | __62.8%__ |\n",
    "| __SVC__| __51.3%__| \n",
    "| __Voting Classifier__| __65.1%__| "
   ]
  }
 ],
 "metadata": {
  "kernelspec": {
   "display_name": "Python 3",
   "language": "python",
   "name": "python3"
  },
  "language_info": {
   "codemirror_mode": {
    "name": "ipython",
    "version": 3
   },
   "file_extension": ".py",
   "mimetype": "text/x-python",
   "name": "python",
   "nbconvert_exporter": "python",
   "pygments_lexer": "ipython3",
   "version": "3.7.3"
  }
 },
 "nbformat": 4,
 "nbformat_minor": 2
}
